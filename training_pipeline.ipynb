{
 "cells": [
  {
   "cell_type": "code",
   "execution_count": 1,
   "metadata": {},
   "outputs": [
    {
     "name": "stdout",
     "output_type": "stream",
     "text": [
      "Mon Dec  4 19:21:45 2023       \n",
      "+---------------------------------------------------------------------------------------+\n",
      "| NVIDIA-SMI 545.23.07              Driver Version: 546.12       CUDA Version: 12.3     |\n",
      "|-----------------------------------------+----------------------+----------------------+\n",
      "| GPU  Name                 Persistence-M | Bus-Id        Disp.A | Volatile Uncorr. ECC |\n",
      "| Fan  Temp   Perf          Pwr:Usage/Cap |         Memory-Usage | GPU-Util  Compute M. |\n",
      "|                                         |                      |               MIG M. |\n",
      "|=========================================+======================+======================|\n",
      "|   0  NVIDIA GeForce RTX 4070        On  | 00000000:01:00.0  On |                  N/A |\n",
      "|  0%   53C    P5              13W / 200W |    890MiB / 12282MiB |      4%      Default |\n",
      "|                                         |                      |                  N/A |\n",
      "+-----------------------------------------+----------------------+----------------------+\n",
      "                                                                                         \n",
      "+---------------------------------------------------------------------------------------+\n",
      "| Processes:                                                                            |\n",
      "|  GPU   GI   CI        PID   Type   Process name                            GPU Memory |\n",
      "|        ID   ID                                                             Usage      |\n",
      "|=======================================================================================|\n",
      "|  No running processes found                                                           |\n",
      "+---------------------------------------------------------------------------------------+\n"
     ]
    }
   ],
   "source": [
    "gpu_info = !nvidia-smi\n",
    "gpu_info = '\\n'.join(gpu_info)\n",
    "if gpu_info.find('failed') >= 0:\n",
    "  print('Not connected to a GPU')\n",
    "else:\n",
    "  print(gpu_info)"
   ]
  },
  {
   "cell_type": "code",
   "execution_count": 2,
   "metadata": {},
   "outputs": [
    {
     "name": "stdout",
     "output_type": "stream",
     "text": [
      "Repository: 'deb https://ppa.launchpadcontent.net/jonathonf/ffmpeg-4/ubuntu/ jammy main'\n",
      "Description:\n",
      "Backport of FFmpeg 4 and associated libraries. Now includes AOM/AV1 support!\n",
      "\n",
      "FDK AAC is not compatible with GPL and FFmpeg can't be redistributed with it included. Please don't ask for it to be added to this public PPA.\n",
      "\n",
      "---\n",
      "\n",
      "PPA supporters:\n",
      "\n",
      "BigBlueButton (https://bigbluebutton.org)\n",
      "\n",
      "---\n",
      "\n",
      "Donate to FFMPEG: https://ffmpeg.org/donations.html\n",
      "Donate to Debian: https://www.debian.org/donations\n",
      "Donate to this PPA: https://ko-fi.com/jonathonf\n",
      "More info: https://launchpad.net/~jonathonf/+archive/ubuntu/ffmpeg-4\n",
      "Adding repository.\n",
      "Found existing deb entry in /etc/apt/sources.list.d/jonathonf-ubuntu-ffmpeg-4-jammy.list\n",
      "Adding deb entry to /etc/apt/sources.list.d/jonathonf-ubuntu-ffmpeg-4-jammy.list\n",
      "Found existing deb-src entry in /etc/apt/sources.list.d/jonathonf-ubuntu-ffmpeg-4-jammy.list\n",
      "Adding disabled deb-src entry to /etc/apt/sources.list.d/jonathonf-ubuntu-ffmpeg-4-jammy.list\n",
      "Adding key to /etc/apt/trusted.gpg.d/jonathonf-ubuntu-ffmpeg-4.gpg with fingerprint 4AB0F789CBA31744CC7DA76A8CF63AD3F06FC659\n",
      "Get:1 file:/var/cuda-repo-wsl-ubuntu-11-8-local  InRelease [1575 B]\n",
      "Get:2 file:/var/cuda-repo-wsl-ubuntu-12-3-local  InRelease [1572 B]\n",
      "Get:1 file:/var/cuda-repo-wsl-ubuntu-11-8-local  InRelease [1575 B]\n",
      "Get:2 file:/var/cuda-repo-wsl-ubuntu-12-3-local  InRelease [1572 B]\n",
      "Get:3 http://security.ubuntu.com/ubuntu jammy-security InRelease [110 kB]      \n",
      "Hit:4 http://archive.ubuntu.com/ubuntu jammy InRelease                         \n",
      "Ign:5 https://ppa.launchpadcontent.net/jonathonf/ffmpeg-4/ubuntu jammy InRelease\n",
      "Err:6 https://ppa.launchpadcontent.net/jonathonf/ffmpeg-4/ubuntu jammy Release \n",
      "  404  Not Found [IP: 185.125.190.80 443]\n",
      "Get:7 http://archive.ubuntu.com/ubuntu jammy-updates InRelease [119 kB]        \n",
      "Hit:8 http://archive.ubuntu.com/ubuntu jammy-backports InRelease  \n",
      "Reading package lists... Done\n",
      "E: The repository 'https://ppa.launchpadcontent.net/jonathonf/ffmpeg-4/ubuntu jammy Release' does not have a Release file.\n",
      "N: Updating from such a repository can't be done securely, and is therefore disabled by default.\n",
      "N: See apt-secure(8) manpage for repository creation and user configuration details.\n",
      "Get:1 file:/var/cuda-repo-wsl-ubuntu-11-8-local  InRelease [1575 B]\n",
      "Get:2 file:/var/cuda-repo-wsl-ubuntu-12-3-local  InRelease [1572 B]\n",
      "Get:1 file:/var/cuda-repo-wsl-ubuntu-11-8-local  InRelease [1575 B]\n",
      "Get:2 file:/var/cuda-repo-wsl-ubuntu-12-3-local  InRelease [1572 B]\n",
      "Hit:3 http://security.ubuntu.com/ubuntu jammy-security InRelease               \u001b[0m\u001b[33m\n",
      "Ign:4 https://ppa.launchpadcontent.net/jonathonf/ffmpeg-4/ubuntu jammy InRelease\n",
      "Hit:5 http://archive.ubuntu.com/ubuntu jammy InRelease\n",
      "Err:6 https://ppa.launchpadcontent.net/jonathonf/ffmpeg-4/ubuntu jammy Release\n",
      "  404  Not Found [IP: 185.125.190.80 443]\n",
      "Hit:7 http://archive.ubuntu.com/ubuntu jammy-updates InRelease\n",
      "Hit:8 http://archive.ubuntu.com/ubuntu jammy-backports InRelease\n",
      "Reading package lists... Done\n",
      "\u001b[1;31mE: \u001b[0mThe repository 'https://ppa.launchpadcontent.net/jonathonf/ffmpeg-4/ubuntu jammy Release' does not have a Release file.\u001b[0m\n",
      "\u001b[33mN: \u001b[0mUpdating from such a repository can't be done securely, and is therefore disabled by default.\u001b[0m\n",
      "\u001b[33mN: \u001b[0mSee apt-secure(8) manpage for repository creation and user configuration details.\u001b[0m\n",
      "Reading package lists... Done\n",
      "Building dependency tree... Done\n",
      "Reading state information... Done\n",
      "ffmpeg is already the newest version (7:4.4.2-0ubuntu0.22.04.1).\n",
      "0 upgraded, 0 newly installed, 0 to remove and 49 not upgraded.\n"
     ]
    }
   ],
   "source": [
    "!add-apt-repository -y ppa:jonathonf/ffmpeg-4\n",
    "!apt update\n",
    "!apt install -y ffmpeg"
   ]
  },
  {
   "cell_type": "code",
   "execution_count": 6,
   "metadata": {},
   "outputs": [
    {
     "name": "stdout",
     "output_type": "stream",
     "text": [
      "Requirement already satisfied: pip in /root/anaconda3/envs/ID2223_lab2/lib/python3.10/site-packages (23.3.1)\n",
      "\u001b[33mWARNING: Running pip as the 'root' user can result in broken permissions and conflicting behaviour with the system package manager. It is recommended to use a virtual environment instead: https://pip.pypa.io/warnings/venv\u001b[0m\u001b[33m\n",
      "\u001b[0mRequirement already satisfied: werkzeug==2.1.2 in /root/anaconda3/envs/ID2223_lab2/lib/python3.10/site-packages (2.1.2)\n",
      "\u001b[33mWARNING: Running pip as the 'root' user can result in broken permissions and conflicting behaviour with the system package manager. It is recommended to use a virtual environment instead: https://pip.pypa.io/warnings/venv\u001b[0m\u001b[33m\n",
      "\u001b[0mRequirement already satisfied: flask==2.1.2 in /root/anaconda3/envs/ID2223_lab2/lib/python3.10/site-packages (2.1.2)\n",
      "Requirement already satisfied: Werkzeug>=2.0 in /root/anaconda3/envs/ID2223_lab2/lib/python3.10/site-packages (from flask==2.1.2) (2.1.2)\n",
      "Requirement already satisfied: Jinja2>=3.0 in /root/anaconda3/envs/ID2223_lab2/lib/python3.10/site-packages (from flask==2.1.2) (3.0.3)\n",
      "Requirement already satisfied: itsdangerous>=2.0 in /root/anaconda3/envs/ID2223_lab2/lib/python3.10/site-packages (from flask==2.1.2) (2.0.1)\n",
      "Requirement already satisfied: click>=8.0 in /root/anaconda3/envs/ID2223_lab2/lib/python3.10/site-packages (from flask==2.1.2) (8.1.7)\n",
      "Requirement already satisfied: MarkupSafe>=2.0 in /root/anaconda3/envs/ID2223_lab2/lib/python3.10/site-packages (from Jinja2>=3.0->flask==2.1.2) (2.0.1)\n",
      "\u001b[33mWARNING: Running pip as the 'root' user can result in broken permissions and conflicting behaviour with the system package manager. It is recommended to use a virtual environment instead: https://pip.pypa.io/warnings/venv\u001b[0m\u001b[33m\n",
      "\u001b[0mRequirement already satisfied: MarkupSafe==2.0.1 in /root/anaconda3/envs/ID2223_lab2/lib/python3.10/site-packages (2.0.1)\n",
      "\u001b[33mWARNING: Running pip as the 'root' user can result in broken permissions and conflicting behaviour with the system package manager. It is recommended to use a virtual environment instead: https://pip.pypa.io/warnings/venv\u001b[0m\u001b[33m\n",
      "\u001b[0mRequirement already satisfied: torch==2.1.1 in /root/anaconda3/envs/ID2223_lab2/lib/python3.10/site-packages (2.1.1)\n",
      "Requirement already satisfied: filelock in /root/anaconda3/envs/ID2223_lab2/lib/python3.10/site-packages (from torch==2.1.1) (3.13.1)\n",
      "Requirement already satisfied: typing-extensions in /root/anaconda3/envs/ID2223_lab2/lib/python3.10/site-packages (from torch==2.1.1) (4.8.0)\n",
      "Requirement already satisfied: sympy in /root/anaconda3/envs/ID2223_lab2/lib/python3.10/site-packages (from torch==2.1.1) (1.12)\n",
      "Requirement already satisfied: networkx in /root/anaconda3/envs/ID2223_lab2/lib/python3.10/site-packages (from torch==2.1.1) (3.2.1)\n",
      "Requirement already satisfied: jinja2 in /root/anaconda3/envs/ID2223_lab2/lib/python3.10/site-packages (from torch==2.1.1) (3.0.3)\n",
      "Requirement already satisfied: fsspec in /root/anaconda3/envs/ID2223_lab2/lib/python3.10/site-packages (from torch==2.1.1) (2023.9.2)\n",
      "Requirement already satisfied: nvidia-cuda-nvrtc-cu12==12.1.105 in /root/anaconda3/envs/ID2223_lab2/lib/python3.10/site-packages (from torch==2.1.1) (12.1.105)\n",
      "Requirement already satisfied: nvidia-cuda-runtime-cu12==12.1.105 in /root/anaconda3/envs/ID2223_lab2/lib/python3.10/site-packages (from torch==2.1.1) (12.1.105)\n",
      "Requirement already satisfied: nvidia-cuda-cupti-cu12==12.1.105 in /root/anaconda3/envs/ID2223_lab2/lib/python3.10/site-packages (from torch==2.1.1) (12.1.105)\n",
      "Requirement already satisfied: nvidia-cudnn-cu12==8.9.2.26 in /root/anaconda3/envs/ID2223_lab2/lib/python3.10/site-packages (from torch==2.1.1) (8.9.2.26)\n",
      "Requirement already satisfied: nvidia-cublas-cu12==12.1.3.1 in /root/anaconda3/envs/ID2223_lab2/lib/python3.10/site-packages (from torch==2.1.1) (12.1.3.1)\n",
      "Requirement already satisfied: nvidia-cufft-cu12==11.0.2.54 in /root/anaconda3/envs/ID2223_lab2/lib/python3.10/site-packages (from torch==2.1.1) (11.0.2.54)\n",
      "Requirement already satisfied: nvidia-curand-cu12==10.3.2.106 in /root/anaconda3/envs/ID2223_lab2/lib/python3.10/site-packages (from torch==2.1.1) (10.3.2.106)\n",
      "Requirement already satisfied: nvidia-cusolver-cu12==11.4.5.107 in /root/anaconda3/envs/ID2223_lab2/lib/python3.10/site-packages (from torch==2.1.1) (11.4.5.107)\n",
      "Requirement already satisfied: nvidia-cusparse-cu12==12.1.0.106 in /root/anaconda3/envs/ID2223_lab2/lib/python3.10/site-packages (from torch==2.1.1) (12.1.0.106)\n",
      "Requirement already satisfied: nvidia-nccl-cu12==2.18.1 in /root/anaconda3/envs/ID2223_lab2/lib/python3.10/site-packages (from torch==2.1.1) (2.18.1)\n",
      "Requirement already satisfied: nvidia-nvtx-cu12==12.1.105 in /root/anaconda3/envs/ID2223_lab2/lib/python3.10/site-packages (from torch==2.1.1) (12.1.105)\n",
      "Requirement already satisfied: triton==2.1.0 in /root/anaconda3/envs/ID2223_lab2/lib/python3.10/site-packages (from torch==2.1.1) (2.1.0)\n",
      "Requirement already satisfied: nvidia-nvjitlink-cu12 in /root/anaconda3/envs/ID2223_lab2/lib/python3.10/site-packages (from nvidia-cusolver-cu12==11.4.5.107->torch==2.1.1) (12.3.101)\n",
      "Requirement already satisfied: MarkupSafe>=2.0 in /root/anaconda3/envs/ID2223_lab2/lib/python3.10/site-packages (from jinja2->torch==2.1.1) (2.0.1)\n",
      "Requirement already satisfied: mpmath>=0.19 in /root/anaconda3/envs/ID2223_lab2/lib/python3.10/site-packages (from sympy->torch==2.1.1) (1.3.0)\n",
      "\u001b[33mWARNING: Running pip as the 'root' user can result in broken permissions and conflicting behaviour with the system package manager. It is recommended to use a virtual environment instead: https://pip.pypa.io/warnings/venv\u001b[0m\u001b[33m\n",
      "\u001b[0mRequirement already satisfied: datasets==2.6.1 in /root/anaconda3/envs/ID2223_lab2/lib/python3.10/site-packages (2.6.1)\n",
      "Requirement already satisfied: numpy>=1.17 in /root/anaconda3/envs/ID2223_lab2/lib/python3.10/site-packages (from datasets==2.6.1) (1.24.3)\n",
      "Requirement already satisfied: pyarrow>=6.0.0 in /root/anaconda3/envs/ID2223_lab2/lib/python3.10/site-packages (from datasets==2.6.1) (11.0.0)\n",
      "Requirement already satisfied: dill<0.3.6 in /root/anaconda3/envs/ID2223_lab2/lib/python3.10/site-packages (from datasets==2.6.1) (0.3.5.1)\n",
      "Requirement already satisfied: pandas in /root/anaconda3/envs/ID2223_lab2/lib/python3.10/site-packages (from datasets==2.6.1) (2.0.3)\n",
      "Requirement already satisfied: requests>=2.19.0 in /root/anaconda3/envs/ID2223_lab2/lib/python3.10/site-packages (from datasets==2.6.1) (2.31.0)\n",
      "Requirement already satisfied: tqdm>=4.62.1 in /root/anaconda3/envs/ID2223_lab2/lib/python3.10/site-packages (from datasets==2.6.1) (4.65.0)\n",
      "Requirement already satisfied: xxhash in /root/anaconda3/envs/ID2223_lab2/lib/python3.10/site-packages (from datasets==2.6.1) (2.0.2)\n",
      "Requirement already satisfied: multiprocess in /root/anaconda3/envs/ID2223_lab2/lib/python3.10/site-packages (from datasets==2.6.1) (0.70.13)\n",
      "Requirement already satisfied: fsspec>=2021.11.1 in /root/anaconda3/envs/ID2223_lab2/lib/python3.10/site-packages (from fsspec[http]>=2021.11.1->datasets==2.6.1) (2023.9.2)\n",
      "Requirement already satisfied: aiohttp in /root/anaconda3/envs/ID2223_lab2/lib/python3.10/site-packages (from datasets==2.6.1) (3.8.5)\n",
      "Requirement already satisfied: huggingface-hub<1.0.0,>=0.2.0 in /root/anaconda3/envs/ID2223_lab2/lib/python3.10/site-packages (from datasets==2.6.1) (0.19.4)\n",
      "Requirement already satisfied: packaging in /root/anaconda3/envs/ID2223_lab2/lib/python3.10/site-packages (from datasets==2.6.1) (23.1)\n",
      "Requirement already satisfied: responses<0.19 in /root/anaconda3/envs/ID2223_lab2/lib/python3.10/site-packages (from datasets==2.6.1) (0.13.3)\n",
      "Requirement already satisfied: pyyaml>=5.1 in /root/anaconda3/envs/ID2223_lab2/lib/python3.10/site-packages (from datasets==2.6.1) (6.0)\n",
      "Requirement already satisfied: attrs>=17.3.0 in /root/anaconda3/envs/ID2223_lab2/lib/python3.10/site-packages (from aiohttp->datasets==2.6.1) (22.1.0)\n",
      "Requirement already satisfied: charset-normalizer<4.0,>=2.0 in /root/anaconda3/envs/ID2223_lab2/lib/python3.10/site-packages (from aiohttp->datasets==2.6.1) (2.0.4)\n",
      "Requirement already satisfied: multidict<7.0,>=4.5 in /root/anaconda3/envs/ID2223_lab2/lib/python3.10/site-packages (from aiohttp->datasets==2.6.1) (6.0.2)\n",
      "Requirement already satisfied: async-timeout<5.0,>=4.0.0a3 in /root/anaconda3/envs/ID2223_lab2/lib/python3.10/site-packages (from aiohttp->datasets==2.6.1) (4.0.2)\n",
      "Requirement already satisfied: yarl<2.0,>=1.0 in /root/anaconda3/envs/ID2223_lab2/lib/python3.10/site-packages (from aiohttp->datasets==2.6.1) (1.8.1)\n",
      "Requirement already satisfied: frozenlist>=1.1.1 in /root/anaconda3/envs/ID2223_lab2/lib/python3.10/site-packages (from aiohttp->datasets==2.6.1) (1.3.3)\n",
      "Requirement already satisfied: aiosignal>=1.1.2 in /root/anaconda3/envs/ID2223_lab2/lib/python3.10/site-packages (from aiohttp->datasets==2.6.1) (1.2.0)\n"
     ]
    },
    {
     "name": "stdout",
     "output_type": "stream",
     "text": [
      "Requirement already satisfied: filelock in /root/anaconda3/envs/ID2223_lab2/lib/python3.10/site-packages (from huggingface-hub<1.0.0,>=0.2.0->datasets==2.6.1) (3.13.1)\n",
      "Requirement already satisfied: typing-extensions>=3.7.4.3 in /root/anaconda3/envs/ID2223_lab2/lib/python3.10/site-packages (from huggingface-hub<1.0.0,>=0.2.0->datasets==2.6.1) (4.8.0)\n",
      "Requirement already satisfied: idna<4,>=2.5 in /root/anaconda3/envs/ID2223_lab2/lib/python3.10/site-packages (from requests>=2.19.0->datasets==2.6.1) (3.4)\n",
      "Requirement already satisfied: urllib3<3,>=1.21.1 in /root/anaconda3/envs/ID2223_lab2/lib/python3.10/site-packages (from requests>=2.19.0->datasets==2.6.1) (1.26.16)\n",
      "Requirement already satisfied: certifi>=2017.4.17 in /root/anaconda3/envs/ID2223_lab2/lib/python3.10/site-packages (from requests>=2.19.0->datasets==2.6.1) (2023.7.22)\n",
      "Requirement already satisfied: six in /root/anaconda3/envs/ID2223_lab2/lib/python3.10/site-packages (from responses<0.19->datasets==2.6.1) (1.16.0)\n",
      "Requirement already satisfied: python-dateutil>=2.8.2 in /root/anaconda3/envs/ID2223_lab2/lib/python3.10/site-packages (from pandas->datasets==2.6.1) (2.8.2)\n",
      "Requirement already satisfied: pytz>=2020.1 in /root/anaconda3/envs/ID2223_lab2/lib/python3.10/site-packages (from pandas->datasets==2.6.1) (2023.3.post1)\n",
      "Requirement already satisfied: tzdata>=2022.1 in /root/anaconda3/envs/ID2223_lab2/lib/python3.10/site-packages (from pandas->datasets==2.6.1) (2023.3)\n",
      "\u001b[33mWARNING: Running pip as the 'root' user can result in broken permissions and conflicting behaviour with the system package manager. It is recommended to use a virtual environment instead: https://pip.pypa.io/warnings/venv\u001b[0m\u001b[33m\n",
      "\u001b[0m/bin/bash: line 1: =3.20: No such file or directory\n",
      "Collecting git+https://github.com/huggingface/transformers\n",
      "  Cloning https://github.com/huggingface/transformers to /tmp/pip-req-build-01doayb3\n",
      "  Running command git clone --filter=blob:none --quiet https://github.com/huggingface/transformers /tmp/pip-req-build-01doayb3\n",
      "  Resolved https://github.com/huggingface/transformers to commit a502b0d427e6ea217bb4d28b352297823385860a\n",
      "  Installing build dependencies ... \u001b[?25ldone\n",
      "\u001b[?25h  Getting requirements to build wheel ... \u001b[?25ldone\n",
      "\u001b[?25h  Preparing metadata (pyproject.toml) ... \u001b[?25ldone\n",
      "\u001b[?25hRequirement already satisfied: filelock in /root/anaconda3/envs/ID2223_lab2/lib/python3.10/site-packages (from transformers==4.36.0.dev0) (3.13.1)\n",
      "Requirement already satisfied: huggingface-hub<1.0,>=0.19.3 in /root/anaconda3/envs/ID2223_lab2/lib/python3.10/site-packages (from transformers==4.36.0.dev0) (0.19.4)\n",
      "Requirement already satisfied: numpy>=1.17 in /root/anaconda3/envs/ID2223_lab2/lib/python3.10/site-packages (from transformers==4.36.0.dev0) (1.24.3)\n",
      "Requirement already satisfied: packaging>=20.0 in /root/anaconda3/envs/ID2223_lab2/lib/python3.10/site-packages (from transformers==4.36.0.dev0) (23.1)\n",
      "Requirement already satisfied: pyyaml>=5.1 in /root/anaconda3/envs/ID2223_lab2/lib/python3.10/site-packages (from transformers==4.36.0.dev0) (6.0)\n",
      "Requirement already satisfied: regex!=2019.12.17 in /root/anaconda3/envs/ID2223_lab2/lib/python3.10/site-packages (from transformers==4.36.0.dev0) (2022.7.9)\n",
      "Requirement already satisfied: requests in /root/anaconda3/envs/ID2223_lab2/lib/python3.10/site-packages (from transformers==4.36.0.dev0) (2.31.0)\n",
      "Requirement already satisfied: tokenizers<0.19,>=0.14 in /root/anaconda3/envs/ID2223_lab2/lib/python3.10/site-packages (from transformers==4.36.0.dev0) (0.15.0)\n",
      "Requirement already satisfied: safetensors>=0.3.1 in /root/anaconda3/envs/ID2223_lab2/lib/python3.10/site-packages (from transformers==4.36.0.dev0) (0.3.2)\n",
      "Requirement already satisfied: tqdm>=4.27 in /root/anaconda3/envs/ID2223_lab2/lib/python3.10/site-packages (from transformers==4.36.0.dev0) (4.65.0)\n",
      "Requirement already satisfied: fsspec>=2023.5.0 in /root/anaconda3/envs/ID2223_lab2/lib/python3.10/site-packages (from huggingface-hub<1.0,>=0.19.3->transformers==4.36.0.dev0) (2023.9.2)\n",
      "Requirement already satisfied: typing-extensions>=3.7.4.3 in /root/anaconda3/envs/ID2223_lab2/lib/python3.10/site-packages (from huggingface-hub<1.0,>=0.19.3->transformers==4.36.0.dev0) (4.8.0)\n",
      "Requirement already satisfied: charset-normalizer<4,>=2 in /root/anaconda3/envs/ID2223_lab2/lib/python3.10/site-packages (from requests->transformers==4.36.0.dev0) (2.0.4)\n",
      "Requirement already satisfied: idna<4,>=2.5 in /root/anaconda3/envs/ID2223_lab2/lib/python3.10/site-packages (from requests->transformers==4.36.0.dev0) (3.4)\n",
      "Requirement already satisfied: urllib3<3,>=1.21.1 in /root/anaconda3/envs/ID2223_lab2/lib/python3.10/site-packages (from requests->transformers==4.36.0.dev0) (1.26.16)\n",
      "Requirement already satisfied: certifi>=2017.4.17 in /root/anaconda3/envs/ID2223_lab2/lib/python3.10/site-packages (from requests->transformers==4.36.0.dev0) (2023.7.22)\n",
      "\u001b[33mWARNING: Running pip as the 'root' user can result in broken permissions and conflicting behaviour with the system package manager. It is recommended to use a virtual environment instead: https://pip.pypa.io/warnings/venv\u001b[0m\u001b[33m\n",
      "\u001b[0mRequirement already satisfied: librosa in /root/anaconda3/envs/ID2223_lab2/lib/python3.10/site-packages (0.10.1)\n",
      "Requirement already satisfied: audioread>=2.1.9 in /root/anaconda3/envs/ID2223_lab2/lib/python3.10/site-packages (from librosa) (3.0.1)\n",
      "Requirement already satisfied: numpy!=1.22.0,!=1.22.1,!=1.22.2,>=1.20.3 in /root/anaconda3/envs/ID2223_lab2/lib/python3.10/site-packages (from librosa) (1.24.3)\n",
      "Requirement already satisfied: scipy>=1.2.0 in /root/anaconda3/envs/ID2223_lab2/lib/python3.10/site-packages (from librosa) (1.11.1)\n",
      "Requirement already satisfied: scikit-learn>=0.20.0 in /root/anaconda3/envs/ID2223_lab2/lib/python3.10/site-packages (from librosa) (1.3.0)\n",
      "Requirement already satisfied: joblib>=0.14 in /root/anaconda3/envs/ID2223_lab2/lib/python3.10/site-packages (from librosa) (1.2.0)\n",
      "Requirement already satisfied: decorator>=4.3.0 in /root/anaconda3/envs/ID2223_lab2/lib/python3.10/site-packages (from librosa) (5.1.1)\n",
      "Requirement already satisfied: numba>=0.51.0 in /root/anaconda3/envs/ID2223_lab2/lib/python3.10/site-packages (from librosa) (0.57.1)\n",
      "Requirement already satisfied: soundfile>=0.12.1 in /root/anaconda3/envs/ID2223_lab2/lib/python3.10/site-packages (from librosa) (0.12.1)\n",
      "Requirement already satisfied: pooch>=1.0 in /root/anaconda3/envs/ID2223_lab2/lib/python3.10/site-packages (from librosa) (1.8.0)\n",
      "Requirement already satisfied: soxr>=0.3.2 in /root/anaconda3/envs/ID2223_lab2/lib/python3.10/site-packages (from librosa) (0.3.7)\n",
      "Requirement already satisfied: typing-extensions>=4.1.1 in /root/anaconda3/envs/ID2223_lab2/lib/python3.10/site-packages (from librosa) (4.8.0)\n",
      "Requirement already satisfied: lazy-loader>=0.1 in /root/anaconda3/envs/ID2223_lab2/lib/python3.10/site-packages (from librosa) (0.2)\n",
      "Requirement already satisfied: msgpack>=1.0 in /root/anaconda3/envs/ID2223_lab2/lib/python3.10/site-packages (from librosa) (1.0.3)\n",
      "Requirement already satisfied: llvmlite<0.41,>=0.40.0dev0 in /root/anaconda3/envs/ID2223_lab2/lib/python3.10/site-packages (from numba>=0.51.0->librosa) (0.40.0)\n",
      "Requirement already satisfied: platformdirs>=2.5.0 in /root/anaconda3/envs/ID2223_lab2/lib/python3.10/site-packages (from pooch>=1.0->librosa) (3.10.0)\n",
      "Requirement already satisfied: packaging>=20.0 in /root/anaconda3/envs/ID2223_lab2/lib/python3.10/site-packages (from pooch>=1.0->librosa) (23.1)\n",
      "Requirement already satisfied: requests>=2.19.0 in /root/anaconda3/envs/ID2223_lab2/lib/python3.10/site-packages (from pooch>=1.0->librosa) (2.31.0)\n",
      "Requirement already satisfied: threadpoolctl>=2.0.0 in /root/anaconda3/envs/ID2223_lab2/lib/python3.10/site-packages (from scikit-learn>=0.20.0->librosa) (2.2.0)\n",
      "Requirement already satisfied: cffi>=1.0 in /root/anaconda3/envs/ID2223_lab2/lib/python3.10/site-packages (from soundfile>=0.12.1->librosa) (1.15.1)\n",
      "Requirement already satisfied: pycparser in /root/anaconda3/envs/ID2223_lab2/lib/python3.10/site-packages (from cffi>=1.0->soundfile>=0.12.1->librosa) (2.21)\n",
      "Requirement already satisfied: charset-normalizer<4,>=2 in /root/anaconda3/envs/ID2223_lab2/lib/python3.10/site-packages (from requests>=2.19.0->pooch>=1.0->librosa) (2.0.4)\n",
      "Requirement already satisfied: idna<4,>=2.5 in /root/anaconda3/envs/ID2223_lab2/lib/python3.10/site-packages (from requests>=2.19.0->pooch>=1.0->librosa) (3.4)\n",
      "Requirement already satisfied: urllib3<3,>=1.21.1 in /root/anaconda3/envs/ID2223_lab2/lib/python3.10/site-packages (from requests>=2.19.0->pooch>=1.0->librosa) (1.26.16)\n",
      "Requirement already satisfied: certifi>=2017.4.17 in /root/anaconda3/envs/ID2223_lab2/lib/python3.10/site-packages (from requests>=2.19.0->pooch>=1.0->librosa) (2023.7.22)\n"
     ]
    },
    {
     "name": "stdout",
     "output_type": "stream",
     "text": [
      "\u001b[33mWARNING: Running pip as the 'root' user can result in broken permissions and conflicting behaviour with the system package manager. It is recommended to use a virtual environment instead: https://pip.pypa.io/warnings/venv\u001b[0m\u001b[33m\n",
      "\u001b[0m\u001b[33mWARNING: Running pip as the 'root' user can result in broken permissions and conflicting behaviour with the system package manager. It is recommended to use a virtual environment instead: https://pip.pypa.io/warnings/venv\u001b[0m\u001b[33m\n",
      "\u001b[0mRequirement already satisfied: jiwer in /root/anaconda3/envs/ID2223_lab2/lib/python3.10/site-packages (3.0.3)\n",
      "Requirement already satisfied: click<9.0.0,>=8.1.3 in /root/anaconda3/envs/ID2223_lab2/lib/python3.10/site-packages (from jiwer) (8.1.7)\n",
      "Requirement already satisfied: rapidfuzz<4,>=3 in /root/anaconda3/envs/ID2223_lab2/lib/python3.10/site-packages (from jiwer) (3.5.2)\n",
      "\u001b[33mWARNING: Running pip as the 'root' user can result in broken permissions and conflicting behaviour with the system package manager. It is recommended to use a virtual environment instead: https://pip.pypa.io/warnings/venv\u001b[0m\u001b[33m\n",
      "\u001b[0mRequirement already satisfied: gradio in /root/anaconda3/envs/ID2223_lab2/lib/python3.10/site-packages (4.7.1)\n",
      "Requirement already satisfied: aiofiles<24.0,>=22.0 in /root/anaconda3/envs/ID2223_lab2/lib/python3.10/site-packages (from gradio) (22.1.0)\n",
      "Requirement already satisfied: altair<6.0,>=4.2.0 in /root/anaconda3/envs/ID2223_lab2/lib/python3.10/site-packages (from gradio) (4.2.2)\n",
      "Requirement already satisfied: fastapi in /root/anaconda3/envs/ID2223_lab2/lib/python3.10/site-packages (from gradio) (0.104.1)\n",
      "Requirement already satisfied: ffmpy in /root/anaconda3/envs/ID2223_lab2/lib/python3.10/site-packages (from gradio) (0.3.1)\n",
      "Requirement already satisfied: gradio-client==0.7.0 in /root/anaconda3/envs/ID2223_lab2/lib/python3.10/site-packages (from gradio) (0.7.0)\n",
      "Requirement already satisfied: httpx in /root/anaconda3/envs/ID2223_lab2/lib/python3.10/site-packages (from gradio) (0.25.2)\n",
      "Requirement already satisfied: huggingface-hub>=0.14.0 in /root/anaconda3/envs/ID2223_lab2/lib/python3.10/site-packages (from gradio) (0.19.4)\n",
      "Requirement already satisfied: importlib-resources<7.0,>=1.3 in /root/anaconda3/envs/ID2223_lab2/lib/python3.10/site-packages (from gradio) (6.1.1)\n",
      "Requirement already satisfied: jinja2<4.0 in /root/anaconda3/envs/ID2223_lab2/lib/python3.10/site-packages (from gradio) (3.0.3)\n",
      "Requirement already satisfied: markupsafe~=2.0 in /root/anaconda3/envs/ID2223_lab2/lib/python3.10/site-packages (from gradio) (2.0.1)\n",
      "Requirement already satisfied: matplotlib~=3.0 in /root/anaconda3/envs/ID2223_lab2/lib/python3.10/site-packages (from gradio) (3.7.2)\n",
      "Requirement already satisfied: numpy~=1.0 in /root/anaconda3/envs/ID2223_lab2/lib/python3.10/site-packages (from gradio) (1.24.3)\n",
      "Requirement already satisfied: orjson~=3.0 in /root/anaconda3/envs/ID2223_lab2/lib/python3.10/site-packages (from gradio) (3.9.10)\n",
      "Requirement already satisfied: packaging in /root/anaconda3/envs/ID2223_lab2/lib/python3.10/site-packages (from gradio) (23.1)\n",
      "Requirement already satisfied: pandas<3.0,>=1.0 in /root/anaconda3/envs/ID2223_lab2/lib/python3.10/site-packages (from gradio) (2.0.3)\n",
      "Requirement already satisfied: pillow<11.0,>=8.0 in /root/anaconda3/envs/ID2223_lab2/lib/python3.10/site-packages (from gradio) (9.4.0)\n",
      "Requirement already satisfied: pydantic>=2.0 in /root/anaconda3/envs/ID2223_lab2/lib/python3.10/site-packages (from gradio) (2.5.2)\n",
      "Requirement already satisfied: pydub in /root/anaconda3/envs/ID2223_lab2/lib/python3.10/site-packages (from gradio) (0.25.1)\n",
      "Requirement already satisfied: python-multipart in /root/anaconda3/envs/ID2223_lab2/lib/python3.10/site-packages (from gradio) (0.0.6)\n",
      "Requirement already satisfied: pyyaml<7.0,>=5.0 in /root/anaconda3/envs/ID2223_lab2/lib/python3.10/site-packages (from gradio) (6.0)\n",
      "Requirement already satisfied: requests~=2.0 in /root/anaconda3/envs/ID2223_lab2/lib/python3.10/site-packages (from gradio) (2.31.0)\n",
      "Requirement already satisfied: semantic-version~=2.0 in /root/anaconda3/envs/ID2223_lab2/lib/python3.10/site-packages (from gradio) (2.10.0)\n",
      "Requirement already satisfied: tomlkit==0.12.0 in /root/anaconda3/envs/ID2223_lab2/lib/python3.10/site-packages (from gradio) (0.12.0)\n",
      "Requirement already satisfied: typer<1.0,>=0.9 in /root/anaconda3/envs/ID2223_lab2/lib/python3.10/site-packages (from typer[all]<1.0,>=0.9->gradio) (0.9.0)\n",
      "Requirement already satisfied: typing-extensions~=4.0 in /root/anaconda3/envs/ID2223_lab2/lib/python3.10/site-packages (from gradio) (4.8.0)\n",
      "Requirement already satisfied: uvicorn>=0.14.0 in /root/anaconda3/envs/ID2223_lab2/lib/python3.10/site-packages (from gradio) (0.24.0.post1)\n",
      "Requirement already satisfied: fsspec in /root/anaconda3/envs/ID2223_lab2/lib/python3.10/site-packages (from gradio-client==0.7.0->gradio) (2023.9.2)\n",
      "Requirement already satisfied: websockets<12.0,>=10.0 in /root/anaconda3/envs/ID2223_lab2/lib/python3.10/site-packages (from gradio-client==0.7.0->gradio) (11.0.3)\n",
      "Requirement already satisfied: entrypoints in /root/anaconda3/envs/ID2223_lab2/lib/python3.10/site-packages (from altair<6.0,>=4.2.0->gradio) (0.4)\n",
      "Requirement already satisfied: jsonschema>=3.0 in /root/anaconda3/envs/ID2223_lab2/lib/python3.10/site-packages (from altair<6.0,>=4.2.0->gradio) (4.17.3)\n",
      "Requirement already satisfied: toolz in /root/anaconda3/envs/ID2223_lab2/lib/python3.10/site-packages (from altair<6.0,>=4.2.0->gradio) (0.12.0)\n",
      "Requirement already satisfied: filelock in /root/anaconda3/envs/ID2223_lab2/lib/python3.10/site-packages (from huggingface-hub>=0.14.0->gradio) (3.13.1)\n",
      "Requirement already satisfied: tqdm>=4.42.1 in /root/anaconda3/envs/ID2223_lab2/lib/python3.10/site-packages (from huggingface-hub>=0.14.0->gradio) (4.65.0)\n",
      "Requirement already satisfied: contourpy>=1.0.1 in /root/anaconda3/envs/ID2223_lab2/lib/python3.10/site-packages (from matplotlib~=3.0->gradio) (1.0.5)\n",
      "Requirement already satisfied: cycler>=0.10 in /root/anaconda3/envs/ID2223_lab2/lib/python3.10/site-packages (from matplotlib~=3.0->gradio) (0.11.0)\n",
      "Requirement already satisfied: fonttools>=4.22.0 in /root/anaconda3/envs/ID2223_lab2/lib/python3.10/site-packages (from matplotlib~=3.0->gradio) (4.25.0)\n",
      "Requirement already satisfied: kiwisolver>=1.0.1 in /root/anaconda3/envs/ID2223_lab2/lib/python3.10/site-packages (from matplotlib~=3.0->gradio) (1.4.4)\n",
      "Requirement already satisfied: pyparsing<3.1,>=2.3.1 in /root/anaconda3/envs/ID2223_lab2/lib/python3.10/site-packages (from matplotlib~=3.0->gradio) (2.4.7)\n",
      "Requirement already satisfied: python-dateutil>=2.7 in /root/anaconda3/envs/ID2223_lab2/lib/python3.10/site-packages (from matplotlib~=3.0->gradio) (2.8.2)\n",
      "Requirement already satisfied: pytz>=2020.1 in /root/anaconda3/envs/ID2223_lab2/lib/python3.10/site-packages (from pandas<3.0,>=1.0->gradio) (2023.3.post1)\n",
      "Requirement already satisfied: tzdata>=2022.1 in /root/anaconda3/envs/ID2223_lab2/lib/python3.10/site-packages (from pandas<3.0,>=1.0->gradio) (2023.3)\n",
      "Requirement already satisfied: annotated-types>=0.4.0 in /root/anaconda3/envs/ID2223_lab2/lib/python3.10/site-packages (from pydantic>=2.0->gradio) (0.6.0)\n",
      "Requirement already satisfied: pydantic-core==2.14.5 in /root/anaconda3/envs/ID2223_lab2/lib/python3.10/site-packages (from pydantic>=2.0->gradio) (2.14.5)\n",
      "Requirement already satisfied: charset-normalizer<4,>=2 in /root/anaconda3/envs/ID2223_lab2/lib/python3.10/site-packages (from requests~=2.0->gradio) (2.0.4)\n",
      "Requirement already satisfied: idna<4,>=2.5 in /root/anaconda3/envs/ID2223_lab2/lib/python3.10/site-packages (from requests~=2.0->gradio) (3.4)\n",
      "Requirement already satisfied: urllib3<3,>=1.21.1 in /root/anaconda3/envs/ID2223_lab2/lib/python3.10/site-packages (from requests~=2.0->gradio) (1.26.16)\n",
      "Requirement already satisfied: certifi>=2017.4.17 in /root/anaconda3/envs/ID2223_lab2/lib/python3.10/site-packages (from requests~=2.0->gradio) (2023.7.22)\n",
      "Requirement already satisfied: click<9.0.0,>=7.1.1 in /root/anaconda3/envs/ID2223_lab2/lib/python3.10/site-packages (from typer<1.0,>=0.9->typer[all]<1.0,>=0.9->gradio) (8.1.7)\n",
      "Requirement already satisfied: colorama<0.5.0,>=0.4.3 in /root/anaconda3/envs/ID2223_lab2/lib/python3.10/site-packages (from typer[all]<1.0,>=0.9->gradio) (0.4.6)\n",
      "Requirement already satisfied: shellingham<2.0.0,>=1.3.0 in /root/anaconda3/envs/ID2223_lab2/lib/python3.10/site-packages (from typer[all]<1.0,>=0.9->gradio) (1.5.4)\n",
      "Requirement already satisfied: rich<14.0.0,>=10.11.0 in /root/anaconda3/envs/ID2223_lab2/lib/python3.10/site-packages (from typer[all]<1.0,>=0.9->gradio) (13.7.0)\n"
     ]
    },
    {
     "name": "stdout",
     "output_type": "stream",
     "text": [
      "Requirement already satisfied: h11>=0.8 in /root/anaconda3/envs/ID2223_lab2/lib/python3.10/site-packages (from uvicorn>=0.14.0->gradio) (0.14.0)\n",
      "Requirement already satisfied: anyio<4.0.0,>=3.7.1 in /root/anaconda3/envs/ID2223_lab2/lib/python3.10/site-packages (from fastapi->gradio) (3.7.1)\n",
      "Requirement already satisfied: starlette<0.28.0,>=0.27.0 in /root/anaconda3/envs/ID2223_lab2/lib/python3.10/site-packages (from fastapi->gradio) (0.27.0)\n",
      "Requirement already satisfied: httpcore==1.* in /root/anaconda3/envs/ID2223_lab2/lib/python3.10/site-packages (from httpx->gradio) (1.0.2)\n",
      "Requirement already satisfied: sniffio in /root/anaconda3/envs/ID2223_lab2/lib/python3.10/site-packages (from httpx->gradio) (1.2.0)\n",
      "Requirement already satisfied: exceptiongroup in /root/anaconda3/envs/ID2223_lab2/lib/python3.10/site-packages (from anyio<4.0.0,>=3.7.1->fastapi->gradio) (1.0.4)\n",
      "Requirement already satisfied: attrs>=17.4.0 in /root/anaconda3/envs/ID2223_lab2/lib/python3.10/site-packages (from jsonschema>=3.0->altair<6.0,>=4.2.0->gradio) (22.1.0)\n",
      "Requirement already satisfied: pyrsistent!=0.17.0,!=0.17.1,!=0.17.2,>=0.14.0 in /root/anaconda3/envs/ID2223_lab2/lib/python3.10/site-packages (from jsonschema>=3.0->altair<6.0,>=4.2.0->gradio) (0.18.0)\n",
      "Requirement already satisfied: six>=1.5 in /root/anaconda3/envs/ID2223_lab2/lib/python3.10/site-packages (from python-dateutil>=2.7->matplotlib~=3.0->gradio) (1.16.0)\n",
      "Requirement already satisfied: markdown-it-py>=2.2.0 in /root/anaconda3/envs/ID2223_lab2/lib/python3.10/site-packages (from rich<14.0.0,>=10.11.0->typer[all]<1.0,>=0.9->gradio) (2.2.0)\n",
      "Requirement already satisfied: pygments<3.0.0,>=2.13.0 in /root/anaconda3/envs/ID2223_lab2/lib/python3.10/site-packages (from rich<14.0.0,>=10.11.0->typer[all]<1.0,>=0.9->gradio) (2.15.1)\n",
      "Requirement already satisfied: mdurl~=0.1 in /root/anaconda3/envs/ID2223_lab2/lib/python3.10/site-packages (from markdown-it-py>=2.2.0->rich<14.0.0,>=10.11.0->typer[all]<1.0,>=0.9->gradio) (0.1.0)\n",
      "\u001b[33mWARNING: Running pip as the 'root' user can result in broken permissions and conflicting behaviour with the system package manager. It is recommended to use a virtual environment instead: https://pip.pypa.io/warnings/venv\u001b[0m\u001b[33m\n",
      "\u001b[0mRequirement already satisfied: hopsworks in /root/anaconda3/envs/ID2223_lab2/lib/python3.10/site-packages (3.4.3)\n",
      "Requirement already satisfied: hsfs<3.5.0,>=3.4.0 in /root/anaconda3/envs/ID2223_lab2/lib/python3.10/site-packages (from hsfs[python]<3.5.0,>=3.4.0->hopsworks) (3.4.4)\n",
      "Requirement already satisfied: hsml<3.5.0,>=3.4.0 in /root/anaconda3/envs/ID2223_lab2/lib/python3.10/site-packages (from hopsworks) (3.4.5)\n",
      "Requirement already satisfied: pyhumps==1.6.1 in /root/anaconda3/envs/ID2223_lab2/lib/python3.10/site-packages (from hopsworks) (1.6.1)\n",
      "Requirement already satisfied: requests in /root/anaconda3/envs/ID2223_lab2/lib/python3.10/site-packages (from hopsworks) (2.31.0)\n",
      "Requirement already satisfied: furl in /root/anaconda3/envs/ID2223_lab2/lib/python3.10/site-packages (from hopsworks) (2.1.3)\n",
      "Requirement already satisfied: boto3 in /root/anaconda3/envs/ID2223_lab2/lib/python3.10/site-packages (from hopsworks) (1.33.2)\n",
      "Requirement already satisfied: pyjks in /root/anaconda3/envs/ID2223_lab2/lib/python3.10/site-packages (from hopsworks) (20.0.0)\n",
      "Requirement already satisfied: mock in /root/anaconda3/envs/ID2223_lab2/lib/python3.10/site-packages (from hopsworks) (5.1.0)\n",
      "Requirement already satisfied: tqdm in /root/anaconda3/envs/ID2223_lab2/lib/python3.10/site-packages (from hopsworks) (4.65.0)\n",
      "Requirement already satisfied: pandas<2.1.0 in /root/anaconda3/envs/ID2223_lab2/lib/python3.10/site-packages (from hsfs<3.5.0,>=3.4.0->hsfs[python]<3.5.0,>=3.4.0->hopsworks) (2.0.3)\n",
      "Requirement already satisfied: numpy in /root/anaconda3/envs/ID2223_lab2/lib/python3.10/site-packages (from hsfs<3.5.0,>=3.4.0->hsfs[python]<3.5.0,>=3.4.0->hopsworks) (1.24.3)\n",
      "Requirement already satisfied: avro==1.11.0 in /root/anaconda3/envs/ID2223_lab2/lib/python3.10/site-packages (from hsfs<3.5.0,>=3.4.0->hsfs[python]<3.5.0,>=3.4.0->hopsworks) (1.11.0)\n",
      "Requirement already satisfied: sqlalchemy in /root/anaconda3/envs/ID2223_lab2/lib/python3.10/site-packages (from hsfs<3.5.0,>=3.4.0->hsfs[python]<3.5.0,>=3.4.0->hopsworks) (1.4.39)\n",
      "Requirement already satisfied: PyMySQL[rsa] in /root/anaconda3/envs/ID2223_lab2/lib/python3.10/site-packages (from hsfs<3.5.0,>=3.4.0->hsfs[python]<3.5.0,>=3.4.0->hopsworks) (1.1.0)\n",
      "Requirement already satisfied: great-expectations==0.14.13 in /root/anaconda3/envs/ID2223_lab2/lib/python3.10/site-packages (from hsfs<3.5.0,>=3.4.0->hsfs[python]<3.5.0,>=3.4.0->hopsworks) (0.14.13)\n",
      "Requirement already satisfied: markupsafe<2.1.0 in /root/anaconda3/envs/ID2223_lab2/lib/python3.10/site-packages (from hsfs<3.5.0,>=3.4.0->hsfs[python]<3.5.0,>=3.4.0->hopsworks) (2.0.1)\n",
      "Requirement already satisfied: tzlocal in /root/anaconda3/envs/ID2223_lab2/lib/python3.10/site-packages (from hsfs<3.5.0,>=3.4.0->hsfs[python]<3.5.0,>=3.4.0->hopsworks) (5.2)\n",
      "Requirement already satisfied: fsspec in /root/anaconda3/envs/ID2223_lab2/lib/python3.10/site-packages (from hsfs<3.5.0,>=3.4.0->hsfs[python]<3.5.0,>=3.4.0->hopsworks) (2023.9.2)\n",
      "Requirement already satisfied: altair<5,>=4.0.0 in /root/anaconda3/envs/ID2223_lab2/lib/python3.10/site-packages (from great-expectations==0.14.13->hsfs<3.5.0,>=3.4.0->hsfs[python]<3.5.0,>=3.4.0->hopsworks) (4.2.2)\n",
      "Requirement already satisfied: Click>=7.1.2 in /root/anaconda3/envs/ID2223_lab2/lib/python3.10/site-packages (from great-expectations==0.14.13->hsfs<3.5.0,>=3.4.0->hsfs[python]<3.5.0,>=3.4.0->hopsworks) (8.1.7)\n",
      "Requirement already satisfied: colorama>=0.4.3 in /root/anaconda3/envs/ID2223_lab2/lib/python3.10/site-packages (from great-expectations==0.14.13->hsfs<3.5.0,>=3.4.0->hsfs[python]<3.5.0,>=3.4.0->hopsworks) (0.4.6)\n",
      "Requirement already satisfied: cryptography>=3.2 in /root/anaconda3/envs/ID2223_lab2/lib/python3.10/site-packages (from great-expectations==0.14.13->hsfs<3.5.0,>=3.4.0->hsfs[python]<3.5.0,>=3.4.0->hopsworks) (41.0.3)\n",
      "Requirement already satisfied: dataclasses in /root/anaconda3/envs/ID2223_lab2/lib/python3.10/site-packages (from great-expectations==0.14.13->hsfs<3.5.0,>=3.4.0->hsfs[python]<3.5.0,>=3.4.0->hopsworks) (0.6)\n",
      "Requirement already satisfied: importlib-metadata>=1.7.0 in /root/anaconda3/envs/ID2223_lab2/lib/python3.10/site-packages (from great-expectations==0.14.13->hsfs<3.5.0,>=3.4.0->hsfs[python]<3.5.0,>=3.4.0->hopsworks) (6.0.0)\n",
      "Requirement already satisfied: Ipython>=7.16.3 in /root/anaconda3/envs/ID2223_lab2/lib/python3.10/site-packages (from great-expectations==0.14.13->hsfs<3.5.0,>=3.4.0->hsfs[python]<3.5.0,>=3.4.0->hopsworks) (8.15.0)\n",
      "Requirement already satisfied: jinja2<3.1.0,>=2.10 in /root/anaconda3/envs/ID2223_lab2/lib/python3.10/site-packages (from great-expectations==0.14.13->hsfs<3.5.0,>=3.4.0->hsfs[python]<3.5.0,>=3.4.0->hopsworks) (3.0.3)\n",
      "Requirement already satisfied: jsonpatch>=1.22 in /root/anaconda3/envs/ID2223_lab2/lib/python3.10/site-packages (from great-expectations==0.14.13->hsfs<3.5.0,>=3.4.0->hsfs[python]<3.5.0,>=3.4.0->hopsworks) (1.33)\n",
      "Requirement already satisfied: jsonschema>=2.5.1 in /root/anaconda3/envs/ID2223_lab2/lib/python3.10/site-packages (from great-expectations==0.14.13->hsfs<3.5.0,>=3.4.0->hsfs[python]<3.5.0,>=3.4.0->hopsworks) (4.17.3)\n",
      "Requirement already satisfied: mistune>=0.8.4 in /root/anaconda3/envs/ID2223_lab2/lib/python3.10/site-packages (from great-expectations==0.14.13->hsfs<3.5.0,>=3.4.0->hsfs[python]<3.5.0,>=3.4.0->hopsworks) (0.8.4)\n",
      "Requirement already satisfied: nbformat>=5.0 in /root/anaconda3/envs/ID2223_lab2/lib/python3.10/site-packages (from great-expectations==0.14.13->hsfs<3.5.0,>=3.4.0->hsfs[python]<3.5.0,>=3.4.0->hopsworks) (5.9.2)\n",
      "Requirement already satisfied: packaging in /root/anaconda3/envs/ID2223_lab2/lib/python3.10/site-packages (from great-expectations==0.14.13->hsfs<3.5.0,>=3.4.0->hsfs[python]<3.5.0,>=3.4.0->hopsworks) (23.1)\n",
      "Requirement already satisfied: pyparsing<3,>=2.4 in /root/anaconda3/envs/ID2223_lab2/lib/python3.10/site-packages (from great-expectations==0.14.13->hsfs<3.5.0,>=3.4.0->hsfs[python]<3.5.0,>=3.4.0->hopsworks) (2.4.7)\n",
      "Requirement already satisfied: python-dateutil>=2.8.1 in /root/anaconda3/envs/ID2223_lab2/lib/python3.10/site-packages (from great-expectations==0.14.13->hsfs<3.5.0,>=3.4.0->hsfs[python]<3.5.0,>=3.4.0->hopsworks) (2.8.2)\n",
      "Requirement already satisfied: pytz>=2021.3 in /root/anaconda3/envs/ID2223_lab2/lib/python3.10/site-packages (from great-expectations==0.14.13->hsfs<3.5.0,>=3.4.0->hsfs[python]<3.5.0,>=3.4.0->hopsworks) (2023.3.post1)\n",
      "Requirement already satisfied: ruamel.yaml<0.17.18,>=0.16 in /root/anaconda3/envs/ID2223_lab2/lib/python3.10/site-packages (from great-expectations==0.14.13->hsfs<3.5.0,>=3.4.0->hsfs[python]<3.5.0,>=3.4.0->hopsworks) (0.17.17)\n",
      "Requirement already satisfied: scipy>=0.19.0 in /root/anaconda3/envs/ID2223_lab2/lib/python3.10/site-packages (from great-expectations==0.14.13->hsfs<3.5.0,>=3.4.0->hsfs[python]<3.5.0,>=3.4.0->hopsworks) (1.11.1)\n",
      "Requirement already satisfied: termcolor>=1.1.0 in /root/anaconda3/envs/ID2223_lab2/lib/python3.10/site-packages (from great-expectations==0.14.13->hsfs<3.5.0,>=3.4.0->hsfs[python]<3.5.0,>=3.4.0->hopsworks) (2.3.0)\n",
      "Requirement already satisfied: typing-extensions>=3.10.0.0 in /root/anaconda3/envs/ID2223_lab2/lib/python3.10/site-packages (from great-expectations==0.14.13->hsfs<3.5.0,>=3.4.0->hsfs[python]<3.5.0,>=3.4.0->hopsworks) (4.8.0)\n",
      "Requirement already satisfied: urllib3<1.27,>=1.25.4 in /root/anaconda3/envs/ID2223_lab2/lib/python3.10/site-packages (from great-expectations==0.14.13->hsfs<3.5.0,>=3.4.0->hsfs[python]<3.5.0,>=3.4.0->hopsworks) (1.26.16)\n",
      "Requirement already satisfied: pyhopshive[thrift] in /root/anaconda3/envs/ID2223_lab2/lib/python3.10/site-packages (from hsfs[python]<3.5.0,>=3.4.0->hopsworks) (0.6.4.1.dev0)\n",
      "Requirement already satisfied: pyarrow>=10.0 in /root/anaconda3/envs/ID2223_lab2/lib/python3.10/site-packages (from hsfs[python]<3.5.0,>=3.4.0->hopsworks) (11.0.0)\n",
      "Requirement already satisfied: confluent-kafka<=2.1.1 in /root/anaconda3/envs/ID2223_lab2/lib/python3.10/site-packages (from hsfs[python]<3.5.0,>=3.4.0->hopsworks) (2.1.1)\n",
      "Requirement already satisfied: fastavro<=1.8.2,>=1.4.11 in /root/anaconda3/envs/ID2223_lab2/lib/python3.10/site-packages (from hsfs[python]<3.5.0,>=3.4.0->hopsworks) (1.8.2)\n",
      "Requirement already satisfied: charset-normalizer<4,>=2 in /root/anaconda3/envs/ID2223_lab2/lib/python3.10/site-packages (from requests->hopsworks) (2.0.4)\n",
      "Requirement already satisfied: idna<4,>=2.5 in /root/anaconda3/envs/ID2223_lab2/lib/python3.10/site-packages (from requests->hopsworks) (3.4)\n",
      "Requirement already satisfied: certifi>=2017.4.17 in /root/anaconda3/envs/ID2223_lab2/lib/python3.10/site-packages (from requests->hopsworks) (2023.7.22)\n",
      "Requirement already satisfied: botocore<1.34.0,>=1.33.2 in /root/anaconda3/envs/ID2223_lab2/lib/python3.10/site-packages (from boto3->hopsworks) (1.33.2)\n",
      "Requirement already satisfied: jmespath<2.0.0,>=0.7.1 in /root/anaconda3/envs/ID2223_lab2/lib/python3.10/site-packages (from boto3->hopsworks) (0.10.0)\n",
      "Requirement already satisfied: s3transfer<0.9.0,>=0.8.0 in /root/anaconda3/envs/ID2223_lab2/lib/python3.10/site-packages (from boto3->hopsworks) (0.8.1)\n",
      "Requirement already satisfied: six>=1.8.0 in /root/anaconda3/envs/ID2223_lab2/lib/python3.10/site-packages (from furl->hopsworks) (1.16.0)\n",
      "Requirement already satisfied: orderedmultidict>=1.0.1 in /root/anaconda3/envs/ID2223_lab2/lib/python3.10/site-packages (from furl->hopsworks) (1.0.1)\n",
      "Requirement already satisfied: javaobj-py3 in /root/anaconda3/envs/ID2223_lab2/lib/python3.10/site-packages (from pyjks->hopsworks) (0.4.3)\n",
      "Requirement already satisfied: pyasn1>=0.3.5 in /root/anaconda3/envs/ID2223_lab2/lib/python3.10/site-packages (from pyjks->hopsworks) (0.4.8)\n",
      "Requirement already satisfied: pyasn1-modules in /root/anaconda3/envs/ID2223_lab2/lib/python3.10/site-packages (from pyjks->hopsworks) (0.2.8)\n",
      "Requirement already satisfied: pycryptodomex in /root/anaconda3/envs/ID2223_lab2/lib/python3.10/site-packages (from pyjks->hopsworks) (3.19.0)\n",
      "Requirement already satisfied: twofish in /root/anaconda3/envs/ID2223_lab2/lib/python3.10/site-packages (from pyjks->hopsworks) (0.3.0)\n"
     ]
    },
    {
     "name": "stdout",
     "output_type": "stream",
     "text": [
      "Requirement already satisfied: tzdata>=2022.1 in /root/anaconda3/envs/ID2223_lab2/lib/python3.10/site-packages (from pandas<2.1.0->hsfs<3.5.0,>=3.4.0->hsfs[python]<3.5.0,>=3.4.0->hopsworks) (2023.3)\n",
      "Requirement already satisfied: future in /root/anaconda3/envs/ID2223_lab2/lib/python3.10/site-packages (from pyhopshive[thrift]; extra == \"python\"->hsfs[python]<3.5.0,>=3.4.0->hopsworks) (0.18.3)\n",
      "Requirement already satisfied: thrift>=0.10.0 in /root/anaconda3/envs/ID2223_lab2/lib/python3.10/site-packages (from pyhopshive[thrift]; extra == \"python\"->hsfs[python]<3.5.0,>=3.4.0->hopsworks) (0.16.0)\n",
      "Requirement already satisfied: greenlet!=0.4.17 in /root/anaconda3/envs/ID2223_lab2/lib/python3.10/site-packages (from sqlalchemy->hsfs<3.5.0,>=3.4.0->hsfs[python]<3.5.0,>=3.4.0->hopsworks) (2.0.1)\n",
      "Requirement already satisfied: entrypoints in /root/anaconda3/envs/ID2223_lab2/lib/python3.10/site-packages (from altair<5,>=4.0.0->great-expectations==0.14.13->hsfs<3.5.0,>=3.4.0->hsfs[python]<3.5.0,>=3.4.0->hopsworks) (0.4)\n",
      "Requirement already satisfied: toolz in /root/anaconda3/envs/ID2223_lab2/lib/python3.10/site-packages (from altair<5,>=4.0.0->great-expectations==0.14.13->hsfs<3.5.0,>=3.4.0->hsfs[python]<3.5.0,>=3.4.0->hopsworks) (0.12.0)\n",
      "Requirement already satisfied: cffi>=1.12 in /root/anaconda3/envs/ID2223_lab2/lib/python3.10/site-packages (from cryptography>=3.2->great-expectations==0.14.13->hsfs<3.5.0,>=3.4.0->hsfs[python]<3.5.0,>=3.4.0->hopsworks) (1.15.1)\n",
      "Requirement already satisfied: zipp>=0.5 in /root/anaconda3/envs/ID2223_lab2/lib/python3.10/site-packages (from importlib-metadata>=1.7.0->great-expectations==0.14.13->hsfs<3.5.0,>=3.4.0->hsfs[python]<3.5.0,>=3.4.0->hopsworks) (3.11.0)\n",
      "Requirement already satisfied: backcall in /root/anaconda3/envs/ID2223_lab2/lib/python3.10/site-packages (from Ipython>=7.16.3->great-expectations==0.14.13->hsfs<3.5.0,>=3.4.0->hsfs[python]<3.5.0,>=3.4.0->hopsworks) (0.2.0)\n",
      "Requirement already satisfied: decorator in /root/anaconda3/envs/ID2223_lab2/lib/python3.10/site-packages (from Ipython>=7.16.3->great-expectations==0.14.13->hsfs<3.5.0,>=3.4.0->hsfs[python]<3.5.0,>=3.4.0->hopsworks) (5.1.1)\n",
      "Requirement already satisfied: jedi>=0.16 in /root/anaconda3/envs/ID2223_lab2/lib/python3.10/site-packages (from Ipython>=7.16.3->great-expectations==0.14.13->hsfs<3.5.0,>=3.4.0->hsfs[python]<3.5.0,>=3.4.0->hopsworks) (0.18.1)\n",
      "Requirement already satisfied: matplotlib-inline in /root/anaconda3/envs/ID2223_lab2/lib/python3.10/site-packages (from Ipython>=7.16.3->great-expectations==0.14.13->hsfs<3.5.0,>=3.4.0->hsfs[python]<3.5.0,>=3.4.0->hopsworks) (0.1.6)\n",
      "Requirement already satisfied: pickleshare in /root/anaconda3/envs/ID2223_lab2/lib/python3.10/site-packages (from Ipython>=7.16.3->great-expectations==0.14.13->hsfs<3.5.0,>=3.4.0->hsfs[python]<3.5.0,>=3.4.0->hopsworks) (0.7.5)\n",
      "Requirement already satisfied: prompt-toolkit!=3.0.37,<3.1.0,>=3.0.30 in /root/anaconda3/envs/ID2223_lab2/lib/python3.10/site-packages (from Ipython>=7.16.3->great-expectations==0.14.13->hsfs<3.5.0,>=3.4.0->hsfs[python]<3.5.0,>=3.4.0->hopsworks) (3.0.36)\n",
      "Requirement already satisfied: pygments>=2.4.0 in /root/anaconda3/envs/ID2223_lab2/lib/python3.10/site-packages (from Ipython>=7.16.3->great-expectations==0.14.13->hsfs<3.5.0,>=3.4.0->hsfs[python]<3.5.0,>=3.4.0->hopsworks) (2.15.1)\n",
      "Requirement already satisfied: stack-data in /root/anaconda3/envs/ID2223_lab2/lib/python3.10/site-packages (from Ipython>=7.16.3->great-expectations==0.14.13->hsfs<3.5.0,>=3.4.0->hsfs[python]<3.5.0,>=3.4.0->hopsworks) (0.2.0)\n",
      "Requirement already satisfied: traitlets>=5 in /root/anaconda3/envs/ID2223_lab2/lib/python3.10/site-packages (from Ipython>=7.16.3->great-expectations==0.14.13->hsfs<3.5.0,>=3.4.0->hsfs[python]<3.5.0,>=3.4.0->hopsworks) (5.7.1)\n",
      "Requirement already satisfied: exceptiongroup in /root/anaconda3/envs/ID2223_lab2/lib/python3.10/site-packages (from Ipython>=7.16.3->great-expectations==0.14.13->hsfs<3.5.0,>=3.4.0->hsfs[python]<3.5.0,>=3.4.0->hopsworks) (1.0.4)\n",
      "Requirement already satisfied: pexpect>4.3 in /root/anaconda3/envs/ID2223_lab2/lib/python3.10/site-packages (from Ipython>=7.16.3->great-expectations==0.14.13->hsfs<3.5.0,>=3.4.0->hsfs[python]<3.5.0,>=3.4.0->hopsworks) (4.8.0)\n",
      "Requirement already satisfied: jsonpointer>=1.9 in /root/anaconda3/envs/ID2223_lab2/lib/python3.10/site-packages (from jsonpatch>=1.22->great-expectations==0.14.13->hsfs<3.5.0,>=3.4.0->hsfs[python]<3.5.0,>=3.4.0->hopsworks) (2.4)\n",
      "Requirement already satisfied: attrs>=17.4.0 in /root/anaconda3/envs/ID2223_lab2/lib/python3.10/site-packages (from jsonschema>=2.5.1->great-expectations==0.14.13->hsfs<3.5.0,>=3.4.0->hsfs[python]<3.5.0,>=3.4.0->hopsworks) (22.1.0)\n",
      "Requirement already satisfied: pyrsistent!=0.17.0,!=0.17.1,!=0.17.2,>=0.14.0 in /root/anaconda3/envs/ID2223_lab2/lib/python3.10/site-packages (from jsonschema>=2.5.1->great-expectations==0.14.13->hsfs<3.5.0,>=3.4.0->hsfs[python]<3.5.0,>=3.4.0->hopsworks) (0.18.0)\n",
      "Requirement already satisfied: fastjsonschema in /root/anaconda3/envs/ID2223_lab2/lib/python3.10/site-packages (from nbformat>=5.0->great-expectations==0.14.13->hsfs<3.5.0,>=3.4.0->hsfs[python]<3.5.0,>=3.4.0->hopsworks) (2.16.2)\n",
      "Requirement already satisfied: jupyter-core in /root/anaconda3/envs/ID2223_lab2/lib/python3.10/site-packages (from nbformat>=5.0->great-expectations==0.14.13->hsfs<3.5.0,>=3.4.0->hsfs[python]<3.5.0,>=3.4.0->hopsworks) (5.3.0)\n",
      "Requirement already satisfied: pycparser in /root/anaconda3/envs/ID2223_lab2/lib/python3.10/site-packages (from cffi>=1.12->cryptography>=3.2->great-expectations==0.14.13->hsfs<3.5.0,>=3.4.0->hsfs[python]<3.5.0,>=3.4.0->hopsworks) (2.21)\n",
      "Requirement already satisfied: parso<0.9.0,>=0.8.0 in /root/anaconda3/envs/ID2223_lab2/lib/python3.10/site-packages (from jedi>=0.16->Ipython>=7.16.3->great-expectations==0.14.13->hsfs<3.5.0,>=3.4.0->hsfs[python]<3.5.0,>=3.4.0->hopsworks) (0.8.3)\n",
      "Requirement already satisfied: ptyprocess>=0.5 in /root/anaconda3/envs/ID2223_lab2/lib/python3.10/site-packages (from pexpect>4.3->Ipython>=7.16.3->great-expectations==0.14.13->hsfs<3.5.0,>=3.4.0->hsfs[python]<3.5.0,>=3.4.0->hopsworks) (0.7.0)\n",
      "Requirement already satisfied: wcwidth in /root/anaconda3/envs/ID2223_lab2/lib/python3.10/site-packages (from prompt-toolkit!=3.0.37,<3.1.0,>=3.0.30->Ipython>=7.16.3->great-expectations==0.14.13->hsfs<3.5.0,>=3.4.0->hsfs[python]<3.5.0,>=3.4.0->hopsworks) (0.2.5)\n",
      "Requirement already satisfied: platformdirs>=2.5 in /root/anaconda3/envs/ID2223_lab2/lib/python3.10/site-packages (from jupyter-core->nbformat>=5.0->great-expectations==0.14.13->hsfs<3.5.0,>=3.4.0->hsfs[python]<3.5.0,>=3.4.0->hopsworks) (3.10.0)\n",
      "Requirement already satisfied: executing in /root/anaconda3/envs/ID2223_lab2/lib/python3.10/site-packages (from stack-data->Ipython>=7.16.3->great-expectations==0.14.13->hsfs<3.5.0,>=3.4.0->hsfs[python]<3.5.0,>=3.4.0->hopsworks) (0.8.3)\n",
      "Requirement already satisfied: asttokens in /root/anaconda3/envs/ID2223_lab2/lib/python3.10/site-packages (from stack-data->Ipython>=7.16.3->great-expectations==0.14.13->hsfs<3.5.0,>=3.4.0->hsfs[python]<3.5.0,>=3.4.0->hopsworks) (2.0.5)\n",
      "Requirement already satisfied: pure-eval in /root/anaconda3/envs/ID2223_lab2/lib/python3.10/site-packages (from stack-data->Ipython>=7.16.3->great-expectations==0.14.13->hsfs<3.5.0,>=3.4.0->hsfs[python]<3.5.0,>=3.4.0->hopsworks) (0.2.2)\n",
      "\u001b[33mWARNING: Running pip as the 'root' user can result in broken permissions and conflicting behaviour with the system package manager. It is recommended to use a virtual environment instead: https://pip.pypa.io/warnings/venv\u001b[0m\u001b[33m\n",
      "\u001b[0mRequirement already satisfied: fsspec==2023.9.2 in /root/anaconda3/envs/ID2223_lab2/lib/python3.10/site-packages (2023.9.2)\n",
      "\u001b[33mWARNING: Running pip as the 'root' user can result in broken permissions and conflicting behaviour with the system package manager. It is recommended to use a virtual environment instead: https://pip.pypa.io/warnings/venv\u001b[0m\u001b[33m\n",
      "\u001b[0m\u001b[33mWARNING: Running pip as the 'root' user can result in broken permissions and conflicting behaviour with the system package manager. It is recommended to use a virtual environment instead: https://pip.pypa.io/warnings/venv\u001b[0m\u001b[33m\n"
     ]
    },
    {
     "name": "stdout",
     "output_type": "stream",
     "text": [
      "\u001b[0mRequirement already satisfied: transformers[torch] in /root/anaconda3/envs/ID2223_lab2/lib/python3.10/site-packages (4.36.0.dev0)\n",
      "Requirement already satisfied: filelock in /root/anaconda3/envs/ID2223_lab2/lib/python3.10/site-packages (from transformers[torch]) (3.13.1)\n",
      "Requirement already satisfied: huggingface-hub<1.0,>=0.19.3 in /root/anaconda3/envs/ID2223_lab2/lib/python3.10/site-packages (from transformers[torch]) (0.19.4)\n",
      "Requirement already satisfied: numpy>=1.17 in /root/anaconda3/envs/ID2223_lab2/lib/python3.10/site-packages (from transformers[torch]) (1.24.3)\n",
      "Requirement already satisfied: packaging>=20.0 in /root/anaconda3/envs/ID2223_lab2/lib/python3.10/site-packages (from transformers[torch]) (23.1)\n",
      "Requirement already satisfied: pyyaml>=5.1 in /root/anaconda3/envs/ID2223_lab2/lib/python3.10/site-packages (from transformers[torch]) (6.0)\n",
      "Requirement already satisfied: regex!=2019.12.17 in /root/anaconda3/envs/ID2223_lab2/lib/python3.10/site-packages (from transformers[torch]) (2022.7.9)\n",
      "Requirement already satisfied: requests in /root/anaconda3/envs/ID2223_lab2/lib/python3.10/site-packages (from transformers[torch]) (2.31.0)\n",
      "Requirement already satisfied: tokenizers<0.19,>=0.14 in /root/anaconda3/envs/ID2223_lab2/lib/python3.10/site-packages (from transformers[torch]) (0.15.0)\n",
      "Requirement already satisfied: safetensors>=0.3.1 in /root/anaconda3/envs/ID2223_lab2/lib/python3.10/site-packages (from transformers[torch]) (0.3.2)\n",
      "Requirement already satisfied: tqdm>=4.27 in /root/anaconda3/envs/ID2223_lab2/lib/python3.10/site-packages (from transformers[torch]) (4.65.0)\n",
      "Requirement already satisfied: torch!=1.12.0,>=1.10 in /root/anaconda3/envs/ID2223_lab2/lib/python3.10/site-packages (from transformers[torch]) (2.1.1)\n",
      "Collecting accelerate>=0.21.0 (from transformers[torch])\n",
      "  Downloading accelerate-0.25.0-py3-none-any.whl.metadata (18 kB)\n",
      "Requirement already satisfied: psutil in /root/anaconda3/envs/ID2223_lab2/lib/python3.10/site-packages (from accelerate>=0.21.0->transformers[torch]) (5.9.0)\n",
      "Requirement already satisfied: fsspec>=2023.5.0 in /root/anaconda3/envs/ID2223_lab2/lib/python3.10/site-packages (from huggingface-hub<1.0,>=0.19.3->transformers[torch]) (2023.9.2)\n",
      "Requirement already satisfied: typing-extensions>=3.7.4.3 in /root/anaconda3/envs/ID2223_lab2/lib/python3.10/site-packages (from huggingface-hub<1.0,>=0.19.3->transformers[torch]) (4.8.0)\n",
      "Requirement already satisfied: sympy in /root/anaconda3/envs/ID2223_lab2/lib/python3.10/site-packages (from torch!=1.12.0,>=1.10->transformers[torch]) (1.12)\n",
      "Requirement already satisfied: networkx in /root/anaconda3/envs/ID2223_lab2/lib/python3.10/site-packages (from torch!=1.12.0,>=1.10->transformers[torch]) (3.2.1)\n",
      "Requirement already satisfied: jinja2 in /root/anaconda3/envs/ID2223_lab2/lib/python3.10/site-packages (from torch!=1.12.0,>=1.10->transformers[torch]) (3.0.3)\n",
      "Requirement already satisfied: nvidia-cuda-nvrtc-cu12==12.1.105 in /root/anaconda3/envs/ID2223_lab2/lib/python3.10/site-packages (from torch!=1.12.0,>=1.10->transformers[torch]) (12.1.105)\n",
      "Requirement already satisfied: nvidia-cuda-runtime-cu12==12.1.105 in /root/anaconda3/envs/ID2223_lab2/lib/python3.10/site-packages (from torch!=1.12.0,>=1.10->transformers[torch]) (12.1.105)\n",
      "Requirement already satisfied: nvidia-cuda-cupti-cu12==12.1.105 in /root/anaconda3/envs/ID2223_lab2/lib/python3.10/site-packages (from torch!=1.12.0,>=1.10->transformers[torch]) (12.1.105)\n",
      "Requirement already satisfied: nvidia-cudnn-cu12==8.9.2.26 in /root/anaconda3/envs/ID2223_lab2/lib/python3.10/site-packages (from torch!=1.12.0,>=1.10->transformers[torch]) (8.9.2.26)\n",
      "Requirement already satisfied: nvidia-cublas-cu12==12.1.3.1 in /root/anaconda3/envs/ID2223_lab2/lib/python3.10/site-packages (from torch!=1.12.0,>=1.10->transformers[torch]) (12.1.3.1)\n",
      "Requirement already satisfied: nvidia-cufft-cu12==11.0.2.54 in /root/anaconda3/envs/ID2223_lab2/lib/python3.10/site-packages (from torch!=1.12.0,>=1.10->transformers[torch]) (11.0.2.54)\n",
      "Requirement already satisfied: nvidia-curand-cu12==10.3.2.106 in /root/anaconda3/envs/ID2223_lab2/lib/python3.10/site-packages (from torch!=1.12.0,>=1.10->transformers[torch]) (10.3.2.106)\n",
      "Requirement already satisfied: nvidia-cusolver-cu12==11.4.5.107 in /root/anaconda3/envs/ID2223_lab2/lib/python3.10/site-packages (from torch!=1.12.0,>=1.10->transformers[torch]) (11.4.5.107)\n",
      "Requirement already satisfied: nvidia-cusparse-cu12==12.1.0.106 in /root/anaconda3/envs/ID2223_lab2/lib/python3.10/site-packages (from torch!=1.12.0,>=1.10->transformers[torch]) (12.1.0.106)\n",
      "Requirement already satisfied: nvidia-nccl-cu12==2.18.1 in /root/anaconda3/envs/ID2223_lab2/lib/python3.10/site-packages (from torch!=1.12.0,>=1.10->transformers[torch]) (2.18.1)\n",
      "Requirement already satisfied: nvidia-nvtx-cu12==12.1.105 in /root/anaconda3/envs/ID2223_lab2/lib/python3.10/site-packages (from torch!=1.12.0,>=1.10->transformers[torch]) (12.1.105)\n",
      "Requirement already satisfied: triton==2.1.0 in /root/anaconda3/envs/ID2223_lab2/lib/python3.10/site-packages (from torch!=1.12.0,>=1.10->transformers[torch]) (2.1.0)\n",
      "Requirement already satisfied: nvidia-nvjitlink-cu12 in /root/anaconda3/envs/ID2223_lab2/lib/python3.10/site-packages (from nvidia-cusolver-cu12==11.4.5.107->torch!=1.12.0,>=1.10->transformers[torch]) (12.3.101)\n",
      "Requirement already satisfied: charset-normalizer<4,>=2 in /root/anaconda3/envs/ID2223_lab2/lib/python3.10/site-packages (from requests->transformers[torch]) (2.0.4)\n",
      "Requirement already satisfied: idna<4,>=2.5 in /root/anaconda3/envs/ID2223_lab2/lib/python3.10/site-packages (from requests->transformers[torch]) (3.4)\n",
      "Requirement already satisfied: urllib3<3,>=1.21.1 in /root/anaconda3/envs/ID2223_lab2/lib/python3.10/site-packages (from requests->transformers[torch]) (1.26.16)\n",
      "Requirement already satisfied: certifi>=2017.4.17 in /root/anaconda3/envs/ID2223_lab2/lib/python3.10/site-packages (from requests->transformers[torch]) (2023.7.22)\n",
      "Requirement already satisfied: MarkupSafe>=2.0 in /root/anaconda3/envs/ID2223_lab2/lib/python3.10/site-packages (from jinja2->torch!=1.12.0,>=1.10->transformers[torch]) (2.0.1)\n",
      "Requirement already satisfied: mpmath>=0.19 in /root/anaconda3/envs/ID2223_lab2/lib/python3.10/site-packages (from sympy->torch!=1.12.0,>=1.10->transformers[torch]) (1.3.0)\n",
      "Downloading accelerate-0.25.0-py3-none-any.whl (265 kB)\n",
      "\u001b[2K   \u001b[90m━━━━━━━━━━━━━━━━━━━━━━━━━━━━━━━━━━━━━━━━\u001b[0m \u001b[32m265.7/265.7 kB\u001b[0m \u001b[31m7.2 MB/s\u001b[0m eta \u001b[36m0:00:00\u001b[0mta \u001b[36m0:00:01\u001b[0m\n",
      "\u001b[?25hInstalling collected packages: accelerate\n",
      "Successfully installed accelerate-0.25.0\n",
      "\u001b[33mWARNING: Running pip as the 'root' user can result in broken permissions and conflicting behaviour with the system package manager. It is recommended to use a virtual environment instead: https://pip.pypa.io/warnings/venv\u001b[0m\u001b[33m\n",
      "\u001b[0mRequirement already satisfied: protobuf==3.20.1 in /root/anaconda3/envs/ID2223_lab2/lib/python3.10/site-packages (3.20.1)\n",
      "\u001b[33mWARNING: Running pip as the 'root' user can result in broken permissions and conflicting behaviour with the system package manager. It is recommended to use a virtual environment instead: https://pip.pypa.io/warnings/venv\u001b[0m\u001b[33m\n",
      "\u001b[0m"
     ]
    }
   ],
   "source": [
    "!pip install --upgrade pip\n",
    "!pip install werkzeug==2.1.2\n",
    "!pip install flask==2.1.2\n",
    "!pip install MarkupSafe==2.0.1\n",
    "!pip install torch==2.1.1\n",
    "!pip install datasets==2.6.1\n",
    "!pip install protobuf<=3.20\n",
    "!pip install git+https://github.com/huggingface/transformers \n",
    "!pip install librosa \n",
    "!pip install evaluate>=0.30 \n",
    "!pip install jiwer \n",
    "!pip install gradio \n",
    "!pip install hopsworks \n",
    "!pip install fsspec==2023.9.2 \n",
    "!pip install tensorflow>=2.8.0\n",
    "!pip install transformers[torch]\n",
    "!pip install protobuf==3.20.1"
   ]
  },
  {
   "cell_type": "code",
   "execution_count": 2,
   "metadata": {},
   "outputs": [],
   "source": [
    "import torch\n",
    "\n",
    "from dataclasses import dataclass\n",
    "from typing import Any, Dict, List, Union\n",
    "\n",
    "@dataclass\n",
    "class DataCollatorSpeechSeq2SeqWithPadding:\n",
    "    processor: Any\n",
    "\n",
    "    def __call__(self, features: List[Dict[str, Union[List[int], torch.Tensor]]]) -> Dict[str, torch.Tensor]:\n",
    "        # split inputs and labels since they have to be of different lengths and need different padding methods\n",
    "        # first treat the audio inputs by simply returning torch tensors\n",
    "        input_features = [{\"input_features\": feature[\"input_features\"]} for feature in features]\n",
    "        batch = self.processor.feature_extractor.pad(input_features, return_tensors=\"pt\")\n",
    "\n",
    "        # get the tokenized label sequences\n",
    "        label_features = [{\"input_ids\": feature[\"labels\"]} for feature in features]\n",
    "        # pad the labels to max length\n",
    "        labels_batch = self.processor.tokenizer.pad(label_features, return_tensors=\"pt\")\n",
    "\n",
    "        # replace padding with -100 to ignore loss correctly\n",
    "        labels = labels_batch[\"input_ids\"].masked_fill(labels_batch.attention_mask.ne(1), -100)\n",
    "\n",
    "        # if bos token is appended in previous tokenization step,\n",
    "        # cut bos token here as it's append later anyways\n",
    "        if (labels[:, 0] == self.processor.tokenizer.bos_token_id).all().cpu().item():\n",
    "            labels = labels[:, 1:]\n",
    "\n",
    "        batch[\"labels\"] = labels\n",
    "\n",
    "        return batch"
   ]
  },
  {
   "cell_type": "markdown",
   "metadata": {},
   "source": [
    "Let's initialise the data collator we've just defined:"
   ]
  },
  {
   "cell_type": "code",
   "execution_count": 3,
   "metadata": {},
   "outputs": [],
   "source": [
    "from transformers import WhisperProcessor\n",
    "\n",
    "processor = WhisperProcessor.from_pretrained(\"openai/whisper-small\", language=\"Romanian\", task=\"transcribe\")\n",
    "\n",
    "data_collator = DataCollatorSpeechSeq2SeqWithPadding(processor=processor)"
   ]
  },
  {
   "cell_type": "markdown",
   "metadata": {},
   "source": [
    "### Evaluation Metrics\n",
    "\n",
    "We'll use the word error rate (WER) metric, the 'de-facto' metric for assessing \n",
    "ASR systems. For more information, refer to the WER [docs](https://huggingface.co/metrics/wer). We'll load the WER metric from 🤗 Evaluate:"
   ]
  },
  {
   "cell_type": "code",
   "execution_count": 4,
   "metadata": {},
   "outputs": [],
   "source": [
    "import evaluate\n",
    "\n",
    "metric = evaluate.load(\"wer\")"
   ]
  },
  {
   "cell_type": "markdown",
   "metadata": {},
   "source": [
    "We then simply have to define a function that takes our model \n",
    "predictions and returns the WER metric. This function, called\n",
    "`compute_metrics`, first replaces `-100` with the `pad_token_id`\n",
    "in the `label_ids` (undoing the step we applied in the \n",
    "data collator to ignore padded tokens correctly in the loss).\n",
    "It then decodes the predicted and label ids to strings. Finally,\n",
    "it computes the WER between the predictions and reference labels:"
   ]
  },
  {
   "cell_type": "code",
   "execution_count": 5,
   "metadata": {},
   "outputs": [],
   "source": [
    "def compute_metrics(pred):\n",
    "    pred_ids = pred.predictions\n",
    "    label_ids = pred.label_ids\n",
    "\n",
    "    # replace -100 with the pad_token_id\n",
    "    label_ids[label_ids == -100] = tokenizer.pad_token_id\n",
    "\n",
    "    # we do not want to group tokens when computing the metrics\n",
    "    pred_str = tokenizer.batch_decode(pred_ids, skip_special_tokens=True)\n",
    "    label_str = tokenizer.batch_decode(label_ids, skip_special_tokens=True)\n",
    "\n",
    "    wer = 100 * metric.compute(predictions=pred_str, references=label_str)\n",
    "\n",
    "    return {\"wer\": wer}"
   ]
  },
  {
   "cell_type": "markdown",
   "metadata": {},
   "source": [
    "Load a Pre-Trained Checkpoint\n",
    "\n",
    "Now let's load the pre-trained Whisper `small` checkpoint. Again, this \n",
    "is trivial through use of 🤗 Transformers!"
   ]
  },
  {
   "cell_type": "code",
   "execution_count": 36,
   "metadata": {},
   "outputs": [],
   "source": [
    "from transformers import WhisperForConditionalGeneration\n",
    "\n",
    "model = WhisperForConditionalGeneration.from_pretrained(\"openai/whisper-small\")"
   ]
  },
  {
   "cell_type": "markdown",
   "metadata": {},
   "source": [
    "Override generation arguments - no tokens are forced as decoder outputs (see [`forced_decoder_ids`](https://huggingface.co/docs/transformers/main_classes/text_generation#transformers.generation_utils.GenerationMixin.generate.forced_decoder_ids)), no tokens are suppressed during generation (see [`suppress_tokens`](https://huggingface.co/docs/transformers/main_classes/text_generation#transformers.generation_utils.GenerationMixin.generate.suppress_tokens)):"
   ]
  },
  {
   "cell_type": "code",
   "execution_count": 37,
   "metadata": {},
   "outputs": [],
   "source": [
    "model.config.forced_decoder_ids = None\n",
    "model.config.suppress_tokens = []"
   ]
  },
  {
   "cell_type": "markdown",
   "metadata": {},
   "source": [
    "### Define the Training Configuration"
   ]
  },
  {
   "cell_type": "markdown",
   "metadata": {},
   "source": [
    "In the final step, we define all the parameters related to training. For more detail on the training arguments, refer to the Seq2SeqTrainingArguments [docs](https://huggingface.co/docs/transformers/main_classes/trainer#transformers.Seq2SeqTrainingArguments)."
   ]
  },
  {
   "cell_type": "code",
   "execution_count": 8,
   "metadata": {},
   "outputs": [],
   "source": [
    "from datasets import load_dataset, DatasetDict\n",
    "\n",
    "common_voice = DatasetDict.load_from_disk(\"/content/gdrive/My Drive/common_voice/\")"
   ]
  },
  {
   "cell_type": "code",
   "execution_count": 31,
   "metadata": {},
   "outputs": [],
   "source": [
    "from transformers import Seq2SeqTrainingArguments\n",
    "\n",
    "training_args = Seq2SeqTrainingArguments(\n",
    "    num_train_epochs=1,\n",
    "    output_dir=\"/content/gdrive/My Drive/whisper_romanian\",  # change to a repo name of your choice\n",
    "    per_device_train_batch_size=16,\n",
    "    gradient_accumulation_steps=1,  # increase by 2x for every 2x decrease in batch size\n",
    "    learning_rate=1e-5,\n",
    "    warmup_steps=500,\n",
    "    max_steps=4000,\n",
    "    save_strategy=\"steps\",\n",
    "    save_steps=1000,\n",
    "    save_total_limit=5,\n",
    "    gradient_checkpointing=True,\n",
    "    fp16=True,\n",
    "    evaluation_strategy=\"steps\",\n",
    "    per_device_eval_batch_size=8,\n",
    "    predict_with_generate=True,\n",
    "    generation_max_length=225,\n",
    "    eval_steps=1000,\n",
    "    logging_steps=25,\n",
    "    report_to=[\"tensorboard\"],\n",
    "    load_best_model_at_end=True,\n",
    "    metric_for_best_model=\"wer\",\n",
    "    greater_is_better=False,\n",
    "    push_to_hub=True,\n",
    "    remove_unused_columns=False,\n",
    ")"
   ]
  },
  {
   "cell_type": "markdown",
   "metadata": {},
   "source": [
    "**Note**: if one does not want to upload the model checkpoints to the Hub, \n",
    "set `push_to_hub=False`.\n",
    "\n",
    "We can forward the training arguments to the 🤗 Trainer along with our model,\n",
    "dataset, data collator and `compute_metrics` function:"
   ]
  },
  {
   "cell_type": "code",
   "execution_count": 38,
   "metadata": {},
   "outputs": [],
   "source": [
    "from transformers import Seq2SeqTrainer\n",
    "\n",
    "trainer = Seq2SeqTrainer(\n",
    "    args=training_args,\n",
    "    model=model,\n",
    "    train_dataset=common_voice[\"train\"],\n",
    "    eval_dataset=common_voice[\"test\"],\n",
    "    data_collator=data_collator,\n",
    "    compute_metrics=compute_metrics,\n",
    "    tokenizer=processor.feature_extractor,\n",
    ")"
   ]
  },
  {
   "cell_type": "markdown",
   "metadata": {},
   "source": [
    "We'll save the processor object once before starting training. Since the processor is not trainable, it won't change over the course of training:"
   ]
  },
  {
   "cell_type": "code",
   "execution_count": 15,
   "metadata": {},
   "outputs": [],
   "source": [
    "processor.save_pretrained(training_args.output_dir)"
   ]
  },
  {
   "cell_type": "markdown",
   "metadata": {},
   "source": [
    "### Training\n",
    "\n",
    "Training will take approximately 5-10 hours depending on your GPU or the one \n",
    "allocated to this Google Colab. If using this Google Colab directly to \n",
    "fine-tune a Whisper model, you should make sure that training isn't \n",
    "interrupted due to inactivity. A simple workaround to prevent this is \n",
    "to paste the following code into the console of this tab (_right mouse click_ \n",
    "-> _inspect_ -> _Console tab_ -> _insert code_).\n",
    "\n",
    "\n",
    "```javascript\n",
    "function ConnectButton(){\n",
    "    console.log(\"Connect pushed\"); \n",
    "    document.querySelector(\"#top-toolbar > colab-connect-button\").shadowRoot.querySelector(\"#connect\").click() \n",
    "}\n",
    "setInterval(ConnectButton, 60000);\n",
    "```\n",
    "\n",
    "\n",
    "The peak GPU memory for the given training configuration is approximately 15.8GB. \n",
    "Depending on the GPU allocated to the Google Colab, it is possible that you will encounter a CUDA `\"out-of-memory\"` error when you launch training. \n",
    "In this case, you can reduce the `per_device_train_batch_size` incrementally by factors of 2 \n",
    "and employ [`gradient_accumulation_steps`](https://huggingface.co/docs/transformers/main_classes/trainer#transformers.Seq2SeqTrainingArguments.gradient_accumulation_steps)\n",
    "to compensate.\n",
    "\n",
    "To launch training, simply execute:"
   ]
  },
  {
   "cell_type": "code",
   "execution_count": 26,
   "metadata": {},
   "outputs": [
    {
     "data": {
      "application/vnd.jupyter.widget-view+json": {
       "model_id": "3fd1f5f4f78345b58e333146d085b442",
       "version_major": 2,
       "version_minor": 0
      },
      "text/plain": [
       "  0%|          | 0/8890 [00:00<?, ?ex/s]"
      ]
     },
     "metadata": {},
     "output_type": "display_data"
    },
    {
     "data": {
      "application/vnd.jupyter.widget-view+json": {
       "model_id": "7abb707612764e9aaba01767e2fdf6f3",
       "version_major": 2,
       "version_minor": 0
      },
      "text/plain": [
       "  0%|          | 0/3859 [00:00<?, ?ex/s]"
      ]
     },
     "metadata": {},
     "output_type": "display_data"
    }
   ],
   "source": [
    "from transformers import WhisperFeatureExtractor\n",
    "from transformers import WhisperTokenizer\n",
    "\n",
    "feature_extractor = WhisperFeatureExtractor.from_pretrained(\"openai/whisper-small\")\n",
    "tokenizer = WhisperTokenizer.from_pretrained(\"openai/whisper-small\", language=\"Romanian\", task=\"transcribe\")\n",
    "\n",
    "def prepare_dataset(batch):\n",
    "    # load and resample audio data from 48 to 16kHz\n",
    "    audio = batch[\"audio\"]\n",
    "\n",
    "    # compute log-Mel input features from input audio array \n",
    "    batch[\"input_features\"] = feature_extractor(audio[\"array\"], sampling_rate=audio[\"sampling_rate\"]).input_features[0]\n",
    "\n",
    "    # encode target text to label ids \n",
    "    batch[\"labels\"] = tokenizer(batch[\"sentence\"]).input_ids\n",
    "    return batch\n",
    "\n",
    "common_voice = common_voice.map(prepare_dataset, remove_columns=common_voice.column_names[\"train\"], num_proc=1)"
   ]
  },
  {
   "cell_type": "code",
   "execution_count": 39,
   "metadata": {},
   "outputs": [
    {
     "data": {
      "text/plain": [
       "DatasetDict({\n",
       "    train: Dataset({\n",
       "        features: ['input_features', 'labels'],\n",
       "        num_rows: 8890\n",
       "    })\n",
       "    test: Dataset({\n",
       "        features: ['input_features', 'labels'],\n",
       "        num_rows: 3859\n",
       "    })\n",
       "})"
      ]
     },
     "execution_count": 39,
     "metadata": {},
     "output_type": "execute_result"
    }
   ],
   "source": [
    "common_voice"
   ]
  },
  {
   "cell_type": "code",
   "execution_count": 40,
   "metadata": {
    "scrolled": true
   },
   "outputs": [
    {
     "data": {
      "text/html": [
       "\n",
       "    <div>\n",
       "      \n",
       "      <progress value='2067' max='4000' style='width:300px; height:20px; vertical-align: middle;'></progress>\n",
       "      [2067/4000 3:03:31 < 2:51:47, 0.19 it/s, Epoch 3.72/8]\n",
       "    </div>\n",
       "    <table border=\"1\" class=\"dataframe\">\n",
       "  <thead>\n",
       " <tr style=\"text-align: left;\">\n",
       "      <th>Step</th>\n",
       "      <th>Training Loss</th>\n",
       "      <th>Validation Loss</th>\n",
       "      <th>Wer</th>\n",
       "    </tr>\n",
       "  </thead>\n",
       "  <tbody>\n",
       "    <tr>\n",
       "      <td>1000</td>\n",
       "      <td>0.103000</td>\n",
       "      <td>0.216198</td>\n",
       "      <td>126.539537</td>\n",
       "    </tr>\n",
       "    <tr>\n",
       "      <td>2000</td>\n",
       "      <td>0.025100</td>\n",
       "      <td>0.213570</td>\n",
       "      <td>228.317442</td>\n",
       "    </tr>\n",
       "  </tbody>\n",
       "</table><p>"
      ],
      "text/plain": [
       "<IPython.core.display.HTML object>"
      ]
     },
     "metadata": {},
     "output_type": "display_data"
    },
    {
     "name": "stderr",
     "output_type": "stream",
     "text": [
      "/root/anaconda3/envs/ID2223_lab2/lib/python3.10/site-packages/torch/utils/checkpoint.py:429: UserWarning: torch.utils.checkpoint: please pass in use_reentrant=True or use_reentrant=False explicitly. The default value of use_reentrant will be updated to be False in the future. To maintain current behavior, pass use_reentrant=True. It is recommended that you use use_reentrant=False. Refer to docs for more details on the differences between the two variants.\n",
      "  warnings.warn(\n",
      "/root/anaconda3/envs/ID2223_lab2/lib/python3.10/site-packages/torch/utils/checkpoint.py:429: UserWarning: torch.utils.checkpoint: please pass in use_reentrant=True or use_reentrant=False explicitly. The default value of use_reentrant will be updated to be False in the future. To maintain current behavior, pass use_reentrant=True. It is recommended that you use use_reentrant=False. Refer to docs for more details on the differences between the two variants.\n",
      "  warnings.warn(\n"
     ]
    },
    {
     "ename": "KeyboardInterrupt",
     "evalue": "",
     "output_type": "error",
     "traceback": [
      "\u001b[0;31m---------------------------------------------------------------------------\u001b[0m",
      "\u001b[0;31mKeyboardInterrupt\u001b[0m                         Traceback (most recent call last)",
      "Cell \u001b[0;32mIn[40], line 1\u001b[0m\n\u001b[0;32m----> 1\u001b[0m \u001b[43mtrainer\u001b[49m\u001b[38;5;241;43m.\u001b[39;49m\u001b[43mtrain\u001b[49m\u001b[43m(\u001b[49m\u001b[43m)\u001b[49m\n",
      "File \u001b[0;32m~/anaconda3/envs/ID2223_lab2/lib/python3.10/site-packages/transformers/trainer.py:1521\u001b[0m, in \u001b[0;36mTrainer.train\u001b[0;34m(self, resume_from_checkpoint, trial, ignore_keys_for_eval, **kwargs)\u001b[0m\n\u001b[1;32m   1518\u001b[0m \u001b[38;5;28;01mtry\u001b[39;00m:\n\u001b[1;32m   1519\u001b[0m     \u001b[38;5;66;03m# Disable progress bars when uploading models during checkpoints to avoid polluting stdout\u001b[39;00m\n\u001b[1;32m   1520\u001b[0m     hf_hub_utils\u001b[38;5;241m.\u001b[39mdisable_progress_bars()\n\u001b[0;32m-> 1521\u001b[0m     \u001b[38;5;28;01mreturn\u001b[39;00m \u001b[43minner_training_loop\u001b[49m\u001b[43m(\u001b[49m\n\u001b[1;32m   1522\u001b[0m \u001b[43m        \u001b[49m\u001b[43margs\u001b[49m\u001b[38;5;241;43m=\u001b[39;49m\u001b[43margs\u001b[49m\u001b[43m,\u001b[49m\n\u001b[1;32m   1523\u001b[0m \u001b[43m        \u001b[49m\u001b[43mresume_from_checkpoint\u001b[49m\u001b[38;5;241;43m=\u001b[39;49m\u001b[43mresume_from_checkpoint\u001b[49m\u001b[43m,\u001b[49m\n\u001b[1;32m   1524\u001b[0m \u001b[43m        \u001b[49m\u001b[43mtrial\u001b[49m\u001b[38;5;241;43m=\u001b[39;49m\u001b[43mtrial\u001b[49m\u001b[43m,\u001b[49m\n\u001b[1;32m   1525\u001b[0m \u001b[43m        \u001b[49m\u001b[43mignore_keys_for_eval\u001b[49m\u001b[38;5;241;43m=\u001b[39;49m\u001b[43mignore_keys_for_eval\u001b[49m\u001b[43m,\u001b[49m\n\u001b[1;32m   1526\u001b[0m \u001b[43m    \u001b[49m\u001b[43m)\u001b[49m\n\u001b[1;32m   1527\u001b[0m \u001b[38;5;28;01mfinally\u001b[39;00m:\n\u001b[1;32m   1528\u001b[0m     hf_hub_utils\u001b[38;5;241m.\u001b[39menable_progress_bars()\n",
      "File \u001b[0;32m~/anaconda3/envs/ID2223_lab2/lib/python3.10/site-packages/transformers/trainer.py:1849\u001b[0m, in \u001b[0;36mTrainer._inner_training_loop\u001b[0;34m(self, batch_size, args, resume_from_checkpoint, trial, ignore_keys_for_eval)\u001b[0m\n\u001b[1;32m   1843\u001b[0m \u001b[38;5;28;01mwith\u001b[39;00m \u001b[38;5;28mself\u001b[39m\u001b[38;5;241m.\u001b[39maccelerator\u001b[38;5;241m.\u001b[39maccumulate(model):\n\u001b[1;32m   1844\u001b[0m     tr_loss_step \u001b[38;5;241m=\u001b[39m \u001b[38;5;28mself\u001b[39m\u001b[38;5;241m.\u001b[39mtraining_step(model, inputs)\n\u001b[1;32m   1846\u001b[0m \u001b[38;5;28;01mif\u001b[39;00m (\n\u001b[1;32m   1847\u001b[0m     args\u001b[38;5;241m.\u001b[39mlogging_nan_inf_filter\n\u001b[1;32m   1848\u001b[0m     \u001b[38;5;129;01mand\u001b[39;00m \u001b[38;5;129;01mnot\u001b[39;00m is_torch_tpu_available()\n\u001b[0;32m-> 1849\u001b[0m     \u001b[38;5;129;01mand\u001b[39;00m (torch\u001b[38;5;241m.\u001b[39misnan(tr_loss_step) \u001b[38;5;129;01mor\u001b[39;00m \u001b[43mtorch\u001b[49m\u001b[38;5;241;43m.\u001b[39;49m\u001b[43misinf\u001b[49m\u001b[43m(\u001b[49m\u001b[43mtr_loss_step\u001b[49m\u001b[43m)\u001b[49m)\n\u001b[1;32m   1850\u001b[0m ):\n\u001b[1;32m   1851\u001b[0m     \u001b[38;5;66;03m# if loss is nan or inf simply add the average of previous logged losses\u001b[39;00m\n\u001b[1;32m   1852\u001b[0m     tr_loss \u001b[38;5;241m+\u001b[39m\u001b[38;5;241m=\u001b[39m tr_loss \u001b[38;5;241m/\u001b[39m (\u001b[38;5;241m1\u001b[39m \u001b[38;5;241m+\u001b[39m \u001b[38;5;28mself\u001b[39m\u001b[38;5;241m.\u001b[39mstate\u001b[38;5;241m.\u001b[39mglobal_step \u001b[38;5;241m-\u001b[39m \u001b[38;5;28mself\u001b[39m\u001b[38;5;241m.\u001b[39m_globalstep_last_logged)\n\u001b[1;32m   1853\u001b[0m \u001b[38;5;28;01melse\u001b[39;00m:\n",
      "\u001b[0;31mKeyboardInterrupt\u001b[0m: "
     ]
    }
   ],
   "source": [
    "trainer.train()"
   ]
  },
  {
   "cell_type": "code",
   "execution_count": null,
   "metadata": {},
   "outputs": [],
   "source": [
    "kwargs = {\n",
    "    \"dataset_tags\": \"mozilla-foundation/common_voice_11_0\",\n",
    "    \"dataset\": \"Romanian voice 1.0\",  # a 'pretty' name for the training dataset\n",
    "    \"dataset_args\": \"config: hi, split: test\",\n",
    "    \"language\": \"hi\",\n",
    "    \"model_name\": \"Whisper Romanian\",  # a 'pretty' name for our model\n",
    "    \"finetuned_from\": \"openai/whisper-small\",\n",
    "    \"tasks\": \"automatic-speech-recognition\",\n",
    "    \"tags\": \"hf-asr-leaderboard\",\n",
    "}"
   ]
  },
  {
   "cell_type": "markdown",
   "metadata": {},
   "source": [
    "The training results can now be uploaded to the Hub. To do so, execute the `push_to_hub` command and save the preprocessor object we created:"
   ]
  }
 ],
 "metadata": {
  "kernelspec": {
   "display_name": "Python 3 (ipykernel)",
   "language": "python",
   "name": "python3"
  },
  "language_info": {
   "codemirror_mode": {
    "name": "ipython",
    "version": 3
   },
   "file_extension": ".py",
   "mimetype": "text/x-python",
   "name": "python",
   "nbconvert_exporter": "python",
   "pygments_lexer": "ipython3",
   "version": "3.10.13"
  }
 },
 "nbformat": 4,
 "nbformat_minor": 4
}
